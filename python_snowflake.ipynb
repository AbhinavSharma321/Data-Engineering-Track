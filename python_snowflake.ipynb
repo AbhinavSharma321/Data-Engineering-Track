{
 "cells": [
  {
   "cell_type": "markdown",
   "metadata": {},
   "source": [
    "#Installation of required pakages\n"
   ]
  },
  {
   "cell_type": "code",
   "execution_count": null,
   "metadata": {},
   "outputs": [
    {
     "name": "stdout",
     "output_type": "stream",
     "text": [
      "Collecting snowflake-connector-python\n",
      "  Downloading snowflake_connector_python-3.13.2-cp312-cp312-win_amd64.whl.metadata (68 kB)\n",
      "Collecting asn1crypto<2.0.0,>0.24.0 (from snowflake-connector-python)\n",
      "  Using cached asn1crypto-1.5.1-py2.py3-none-any.whl.metadata (13 kB)\n",
      "Collecting cffi<2.0.0,>=1.9 (from snowflake-connector-python)\n",
      "  Downloading cffi-1.17.1-cp312-cp312-win_amd64.whl.metadata (1.6 kB)\n",
      "Collecting cryptography>=3.1.0 (from snowflake-connector-python)\n",
      "  Using cached cryptography-44.0.0-cp39-abi3-win_amd64.whl.metadata (5.7 kB)\n",
      "Collecting pyOpenSSL<25.0.0,>=22.0.0 (from snowflake-connector-python)\n",
      "  Using cached pyOpenSSL-24.3.0-py3-none-any.whl.metadata (15 kB)\n",
      "Collecting pyjwt<3.0.0 (from snowflake-connector-python)\n",
      "  Using cached PyJWT-2.10.1-py3-none-any.whl.metadata (4.0 kB)\n",
      "Collecting pytz (from snowflake-connector-python)\n",
      "  Using cached pytz-2025.1-py2.py3-none-any.whl.metadata (22 kB)\n",
      "Collecting requests<3.0.0 (from snowflake-connector-python)\n",
      "  Using cached requests-2.32.3-py3-none-any.whl.metadata (4.6 kB)\n",
      "Requirement already satisfied: packaging in c:\\users\\siddh\\appdata\\roaming\\python\\python312\\site-packages (from snowflake-connector-python) (24.2)\n",
      "Collecting charset_normalizer<4,>=2 (from snowflake-connector-python)\n",
      "  Downloading charset_normalizer-3.4.1-cp312-cp312-win_amd64.whl.metadata (36 kB)\n",
      "Collecting idna<4,>=2.5 (from snowflake-connector-python)\n",
      "  Using cached idna-3.10-py3-none-any.whl.metadata (10 kB)\n",
      "Collecting certifi>=2017.4.17 (from snowflake-connector-python)\n",
      "  Downloading certifi-2025.1.31-py3-none-any.whl.metadata (2.5 kB)\n",
      "Collecting typing_extensions<5,>=4.3 (from snowflake-connector-python)\n",
      "  Using cached typing_extensions-4.12.2-py3-none-any.whl.metadata (3.0 kB)\n",
      "Collecting filelock<4,>=3.5 (from snowflake-connector-python)\n",
      "  Using cached filelock-3.17.0-py3-none-any.whl.metadata (2.9 kB)\n",
      "Collecting sortedcontainers>=2.4.0 (from snowflake-connector-python)\n",
      "  Using cached sortedcontainers-2.4.0-py2.py3-none-any.whl.metadata (10 kB)\n",
      "Requirement already satisfied: platformdirs<5.0.0,>=2.6.0 in c:\\users\\siddh\\appdata\\roaming\\python\\python312\\site-packages (from snowflake-connector-python) (4.3.6)\n",
      "Collecting tomlkit (from snowflake-connector-python)\n",
      "  Using cached tomlkit-0.13.2-py3-none-any.whl.metadata (2.7 kB)\n",
      "Collecting pycparser (from cffi<2.0.0,>=1.9->snowflake-connector-python)\n",
      "  Using cached pycparser-2.22-py3-none-any.whl.metadata (943 bytes)\n",
      "Collecting urllib3<3,>=1.21.1 (from requests<3.0.0->snowflake-connector-python)\n",
      "  Using cached urllib3-2.3.0-py3-none-any.whl.metadata (6.5 kB)\n",
      "Downloading snowflake_connector_python-3.13.2-cp312-cp312-win_amd64.whl (920 kB)\n",
      "   ---------------------------------------- 0.0/920.4 kB ? eta -:--:--\n",
      "   ---------------------------------------- 920.4/920.4 kB 5.3 MB/s eta 0:00:00\n",
      "Using cached asn1crypto-1.5.1-py2.py3-none-any.whl (105 kB)\n",
      "Downloading certifi-2025.1.31-py3-none-any.whl (166 kB)\n",
      "Downloading cffi-1.17.1-cp312-cp312-win_amd64.whl (181 kB)\n",
      "Downloading charset_normalizer-3.4.1-cp312-cp312-win_amd64.whl (102 kB)\n",
      "Using cached cryptography-44.0.0-cp39-abi3-win_amd64.whl (3.2 MB)\n",
      "Using cached filelock-3.17.0-py3-none-any.whl (16 kB)\n",
      "Using cached idna-3.10-py3-none-any.whl (70 kB)\n",
      "Using cached PyJWT-2.10.1-py3-none-any.whl (22 kB)\n",
      "Using cached pyOpenSSL-24.3.0-py3-none-any.whl (56 kB)\n",
      "Using cached requests-2.32.3-py3-none-any.whl (64 kB)\n",
      "Using cached sortedcontainers-2.4.0-py2.py3-none-any.whl (29 kB)\n",
      "Using cached typing_extensions-4.12.2-py3-none-any.whl (37 kB)\n",
      "Using cached pytz-2025.1-py2.py3-none-any.whl (507 kB)\n",
      "Using cached tomlkit-0.13.2-py3-none-any.whl (37 kB)\n",
      "Using cached urllib3-2.3.0-py3-none-any.whl (128 kB)\n",
      "Using cached pycparser-2.22-py3-none-any.whl (117 kB)\n",
      "Installing collected packages: sortedcontainers, pytz, asn1crypto, urllib3, typing_extensions, tomlkit, pyjwt, pycparser, idna, filelock, charset_normalizer, certifi, requests, cffi, cryptography, pyOpenSSL, snowflake-connector-python\n",
      "Successfully installed asn1crypto-1.5.1 certifi-2025.1.31 cffi-1.17.1 charset_normalizer-3.4.1 cryptography-44.0.0 filelock-3.17.0 idna-3.10 pyOpenSSL-24.3.0 pycparser-2.22 pyjwt-2.10.1 pytz-2025.1 requests-2.32.3 snowflake-connector-python-3.13.2 sortedcontainers-2.4.0 tomlkit-0.13.2 typing_extensions-4.12.2 urllib3-2.3.0\n"
     ]
    },
    {
     "name": "stderr",
     "output_type": "stream",
     "text": [
      "\n",
      "[notice] A new release of pip is available: 24.3.1 -> 25.0.1\n",
      "[notice] To update, run: python.exe -m pip install --upgrade pip\n"
     ]
    },
    {
     "name": "stdout",
     "output_type": "stream",
     "text": [
      "Collecting snowflake-snowpark-python\n",
      "  Downloading snowflake_snowpark_python-1.27.0-py3-none-any.whl.metadata (121 kB)\n",
      "Collecting setuptools>=40.6.0 (from snowflake-snowpark-python)\n",
      "  Using cached setuptools-75.8.0-py3-none-any.whl.metadata (6.7 kB)\n",
      "Collecting wheel (from snowflake-snowpark-python)\n",
      "  Using cached wheel-0.45.1-py3-none-any.whl.metadata (2.3 kB)\n",
      "Requirement already satisfied: snowflake-connector-python<4.0.0,>=3.12.0 in c:\\users\\siddh\\appdata\\local\\programs\\python\\python312\\lib\\site-packages (from snowflake-snowpark-python) (3.13.2)\n",
      "Requirement already satisfied: typing-extensions<5.0.0,>=4.1.0 in c:\\users\\siddh\\appdata\\local\\programs\\python\\python312\\lib\\site-packages (from snowflake-snowpark-python) (4.12.2)\n",
      "Collecting pyyaml (from snowflake-snowpark-python)\n",
      "  Downloading PyYAML-6.0.2-cp312-cp312-win_amd64.whl.metadata (2.1 kB)\n",
      "Collecting cloudpickle!=2.1.0,!=2.2.0,<=2.2.1,>=1.6.0 (from snowflake-snowpark-python)\n",
      "  Downloading cloudpickle-2.2.1-py3-none-any.whl.metadata (6.9 kB)\n",
      "Collecting protobuf<6,>=3.20 (from snowflake-snowpark-python)\n",
      "  Downloading protobuf-5.29.3-cp310-abi3-win_amd64.whl.metadata (592 bytes)\n",
      "Requirement already satisfied: python-dateutil in c:\\users\\siddh\\appdata\\roaming\\python\\python312\\site-packages (from snowflake-snowpark-python) (2.9.0.post0)\n",
      "Collecting tzlocal (from snowflake-snowpark-python)\n",
      "  Downloading tzlocal-5.2-py3-none-any.whl.metadata (7.8 kB)\n",
      "Requirement already satisfied: asn1crypto<2.0.0,>0.24.0 in c:\\users\\siddh\\appdata\\local\\programs\\python\\python312\\lib\\site-packages (from snowflake-connector-python<4.0.0,>=3.12.0->snowflake-snowpark-python) (1.5.1)\n",
      "Requirement already satisfied: cffi<2.0.0,>=1.9 in c:\\users\\siddh\\appdata\\local\\programs\\python\\python312\\lib\\site-packages (from snowflake-connector-python<4.0.0,>=3.12.0->snowflake-snowpark-python) (1.17.1)\n",
      "Requirement already satisfied: cryptography>=3.1.0 in c:\\users\\siddh\\appdata\\local\\programs\\python\\python312\\lib\\site-packages (from snowflake-connector-python<4.0.0,>=3.12.0->snowflake-snowpark-python) (44.0.0)\n",
      "Requirement already satisfied: pyOpenSSL<25.0.0,>=22.0.0 in c:\\users\\siddh\\appdata\\local\\programs\\python\\python312\\lib\\site-packages (from snowflake-connector-python<4.0.0,>=3.12.0->snowflake-snowpark-python) (24.3.0)\n",
      "Requirement already satisfied: pyjwt<3.0.0 in c:\\users\\siddh\\appdata\\local\\programs\\python\\python312\\lib\\site-packages (from snowflake-connector-python<4.0.0,>=3.12.0->snowflake-snowpark-python) (2.10.1)\n",
      "Requirement already satisfied: pytz in c:\\users\\siddh\\appdata\\local\\programs\\python\\python312\\lib\\site-packages (from snowflake-connector-python<4.0.0,>=3.12.0->snowflake-snowpark-python) (2025.1)\n",
      "Requirement already satisfied: requests<3.0.0 in c:\\users\\siddh\\appdata\\local\\programs\\python\\python312\\lib\\site-packages (from snowflake-connector-python<4.0.0,>=3.12.0->snowflake-snowpark-python) (2.32.3)\n",
      "Requirement already satisfied: packaging in c:\\users\\siddh\\appdata\\roaming\\python\\python312\\site-packages (from snowflake-connector-python<4.0.0,>=3.12.0->snowflake-snowpark-python) (24.2)\n",
      "Requirement already satisfied: charset_normalizer<4,>=2 in c:\\users\\siddh\\appdata\\local\\programs\\python\\python312\\lib\\site-packages (from snowflake-connector-python<4.0.0,>=3.12.0->snowflake-snowpark-python) (3.4.1)\n",
      "Requirement already satisfied: idna<4,>=2.5 in c:\\users\\siddh\\appdata\\local\\programs\\python\\python312\\lib\\site-packages (from snowflake-connector-python<4.0.0,>=3.12.0->snowflake-snowpark-python) (3.10)\n",
      "Requirement already satisfied: certifi>=2017.4.17 in c:\\users\\siddh\\appdata\\local\\programs\\python\\python312\\lib\\site-packages (from snowflake-connector-python<4.0.0,>=3.12.0->snowflake-snowpark-python) (2025.1.31)\n",
      "Requirement already satisfied: filelock<4,>=3.5 in c:\\users\\siddh\\appdata\\local\\programs\\python\\python312\\lib\\site-packages (from snowflake-connector-python<4.0.0,>=3.12.0->snowflake-snowpark-python) (3.17.0)\n",
      "Requirement already satisfied: sortedcontainers>=2.4.0 in c:\\users\\siddh\\appdata\\local\\programs\\python\\python312\\lib\\site-packages (from snowflake-connector-python<4.0.0,>=3.12.0->snowflake-snowpark-python) (2.4.0)\n",
      "Requirement already satisfied: platformdirs<5.0.0,>=2.6.0 in c:\\users\\siddh\\appdata\\roaming\\python\\python312\\site-packages (from snowflake-connector-python<4.0.0,>=3.12.0->snowflake-snowpark-python) (4.3.6)\n",
      "Requirement already satisfied: tomlkit in c:\\users\\siddh\\appdata\\local\\programs\\python\\python312\\lib\\site-packages (from snowflake-connector-python<4.0.0,>=3.12.0->snowflake-snowpark-python) (0.13.2)\n",
      "Requirement already satisfied: six>=1.5 in c:\\users\\siddh\\appdata\\roaming\\python\\python312\\site-packages (from python-dateutil->snowflake-snowpark-python) (1.17.0)\n",
      "Collecting tzdata (from tzlocal->snowflake-snowpark-python)\n",
      "  Using cached tzdata-2025.1-py2.py3-none-any.whl.metadata (1.4 kB)\n",
      "Requirement already satisfied: pycparser in c:\\users\\siddh\\appdata\\local\\programs\\python\\python312\\lib\\site-packages (from cffi<2.0.0,>=1.9->snowflake-connector-python<4.0.0,>=3.12.0->snowflake-snowpark-python) (2.22)\n",
      "Requirement already satisfied: urllib3<3,>=1.21.1 in c:\\users\\siddh\\appdata\\local\\programs\\python\\python312\\lib\\site-packages (from requests<3.0.0->snowflake-connector-python<4.0.0,>=3.12.0->snowflake-snowpark-python) (2.3.0)\n",
      "Downloading snowflake_snowpark_python-1.27.0-py3-none-any.whl (1.5 MB)\n",
      "   ---------------------------------------- 0.0/1.5 MB ? eta -:--:--\n",
      "   ---------------------------------- ----- 1.3/1.5 MB 13.4 MB/s eta 0:00:01\n",
      "   ---------------------------------------- 1.5/1.5 MB 8.1 MB/s eta 0:00:00\n",
      "Downloading cloudpickle-2.2.1-py3-none-any.whl (25 kB)\n",
      "Downloading protobuf-5.29.3-cp310-abi3-win_amd64.whl (434 kB)\n",
      "Using cached setuptools-75.8.0-py3-none-any.whl (1.2 MB)\n",
      "Downloading PyYAML-6.0.2-cp312-cp312-win_amd64.whl (156 kB)\n",
      "Downloading tzlocal-5.2-py3-none-any.whl (17 kB)\n",
      "Using cached wheel-0.45.1-py3-none-any.whl (72 kB)\n",
      "Using cached tzdata-2025.1-py2.py3-none-any.whl (346 kB)\n",
      "Installing collected packages: wheel, tzdata, setuptools, pyyaml, protobuf, cloudpickle, tzlocal, snowflake-snowpark-python\n",
      "Successfully installed cloudpickle-2.2.1 protobuf-5.29.3 pyyaml-6.0.2 setuptools-75.8.0 snowflake-snowpark-python-1.27.0 tzdata-2025.1 tzlocal-5.2 wheel-0.45.1\n"
     ]
    },
    {
     "name": "stderr",
     "output_type": "stream",
     "text": [
      "\n",
      "[notice] A new release of pip is available: 24.3.1 -> 25.0.1\n",
      "[notice] To update, run: python.exe -m pip install --upgrade pip\n"
     ]
    }
   ],
   "source": [
    "! pip install snowflake-connector-python\n",
    "# ! pip install snowflake-snowpark-python"
   ]
  },
  {
   "cell_type": "markdown",
   "metadata": {},
   "source": []
  },
  {
   "cell_type": "code",
   "execution_count": 2,
   "metadata": {},
   "outputs": [],
   "source": [
    "import snowflake.connector\n",
    "import os"
   ]
  },
  {
   "cell_type": "code",
   "execution_count": 4,
   "metadata": {},
   "outputs": [
    {
     "name": "stdout",
     "output_type": "stream",
     "text": [
      "Collecting python-dotenv\n",
      "  Using cached python_dotenv-1.0.1-py3-none-any.whl.metadata (23 kB)\n",
      "Using cached python_dotenv-1.0.1-py3-none-any.whl (19 kB)\n",
      "Installing collected packages: python-dotenv\n",
      "Successfully installed python-dotenv-1.0.1\n"
     ]
    },
    {
     "name": "stderr",
     "output_type": "stream",
     "text": [
      "\n",
      "[notice] A new release of pip is available: 24.3.1 -> 25.0.1\n",
      "[notice] To update, run: python.exe -m pip install --upgrade pip\n"
     ]
    }
   ],
   "source": [
    "! pip install python-dotenv"
   ]
  },
  {
   "cell_type": "code",
   "execution_count": 4,
   "metadata": {},
   "outputs": [
    {
     "name": "stdout",
     "output_type": "stream",
     "text": [
      "Snowflake Warehouse: None\n",
      "Snowflake Account: tm52713.ap-south-1\n"
     ]
    }
   ],
   "source": [
    "import os\n",
    "from dotenv import load_dotenv\n",
    "\n",
    "\n",
    "load_dotenv()\n",
    "\n",
    "# Define connection parameters correctly\n",
    "connection_param = {\n",
    "    \"user\": os.getenv(\"SNOWFLAKE_USER\"),\n",
    "    \"password\": os.getenv(\"SNOWFLAKE_PASSWORD\"),\n",
    "    \"account\": \"tm52713.ap-south-1\",\n",
    "    \"database\": os.getenv(\"SNOWFLAKE_DATABASE\"),\n",
    "    \"schema\": os.getenv(\"SNOWFLAKE_SCHEMA\"),\n",
    "    \"warehouse\": os.getenv(\"SNOWFLAKE_WAREHOUSE\")\n",
    "}\n",
    "\n",
    "# for testinbg \n",
    "print(f\"Snowflake Warehouse: {connection_param['warehouse']}\")\n",
    "print(f\"Snowflake Account: {connection_param['account']}\")\n",
    "\n"
   ]
  },
  {
   "cell_type": "code",
   "execution_count": 5,
   "metadata": {},
   "outputs": [
    {
     "name": "stdout",
     "output_type": "stream",
     "text": [
      "Connection successful\n"
     ]
    }
   ],
   "source": [
    "session = snowflake.connector.connect(**connection_param)\n",
    "print(\"Connection successful\")"
   ]
  },
  {
   "cell_type": "code",
   "execution_count": 35,
   "metadata": {},
   "outputs": [
    {
     "name": "stdout",
     "output_type": "stream",
     "text": [
      "Requirement already satisfied: pandas in c:\\users\\siddh\\appdata\\local\\programs\\python\\python312\\lib\\site-packages (2.2.3)\n",
      "Requirement already satisfied: pyarrow in c:\\users\\siddh\\appdata\\local\\programs\\python\\python312\\lib\\site-packages (19.0.0)\n",
      "Requirement already satisfied: numpy>=1.26.0 in c:\\users\\siddh\\appdata\\local\\programs\\python\\python312\\lib\\site-packages (from pandas) (2.2.2)\n",
      "Requirement already satisfied: python-dateutil>=2.8.2 in c:\\users\\siddh\\appdata\\roaming\\python\\python312\\site-packages (from pandas) (2.9.0.post0)\n",
      "Requirement already satisfied: pytz>=2020.1 in c:\\users\\siddh\\appdata\\local\\programs\\python\\python312\\lib\\site-packages (from pandas) (2025.1)\n",
      "Requirement already satisfied: tzdata>=2022.7 in c:\\users\\siddh\\appdata\\local\\programs\\python\\python312\\lib\\site-packages (from pandas) (2025.1)\n",
      "Requirement already satisfied: six>=1.5 in c:\\users\\siddh\\appdata\\roaming\\python\\python312\\site-packages (from python-dateutil>=2.8.2->pandas) (1.17.0)\n"
     ]
    },
    {
     "name": "stderr",
     "output_type": "stream",
     "text": [
      "\n",
      "[notice] A new release of pip is available: 24.3.1 -> 25.0.1\n",
      "[notice] To update, run: python.exe -m pip install --upgrade pip\n"
     ]
    },
    {
     "name": "stdout",
     "output_type": "stream",
     "text": [
      "Requirement already satisfied: pandas in c:\\users\\siddh\\appdata\\local\\programs\\python\\python312\\lib\\site-packages (2.2.3)\n",
      "Requirement already satisfied: pyarrow in c:\\users\\siddh\\appdata\\local\\programs\\python\\python312\\lib\\site-packages (19.0.0)\n",
      "Requirement already satisfied: numpy>=1.26.0 in c:\\users\\siddh\\appdata\\local\\programs\\python\\python312\\lib\\site-packages (from pandas) (2.2.2)\n",
      "Requirement already satisfied: python-dateutil>=2.8.2 in c:\\users\\siddh\\appdata\\roaming\\python\\python312\\site-packages (from pandas) (2.9.0.post0)\n",
      "Requirement already satisfied: pytz>=2020.1 in c:\\users\\siddh\\appdata\\local\\programs\\python\\python312\\lib\\site-packages (from pandas) (2025.1)\n",
      "Requirement already satisfied: tzdata>=2022.7 in c:\\users\\siddh\\appdata\\local\\programs\\python\\python312\\lib\\site-packages (from pandas) (2025.1)\n",
      "Requirement already satisfied: six>=1.5 in c:\\users\\siddh\\appdata\\roaming\\python\\python312\\site-packages (from python-dateutil>=2.8.2->pandas) (1.17.0)\n"
     ]
    },
    {
     "name": "stderr",
     "output_type": "stream",
     "text": [
      "\n",
      "[notice] A new release of pip is available: 24.3.1 -> 25.0.1\n",
      "[notice] To update, run: python.exe -m pip install --upgrade pip\n"
     ]
    }
   ],
   "source": [
    "! pip install pandas pyarrow\n",
    "! pip install --upgrade pandas pyarrow\n",
    "\n"
   ]
  },
  {
   "cell_type": "code",
   "execution_count": 38,
   "metadata": {},
   "outputs": [
    {
     "name": "stdout",
     "output_type": "stream",
     "text": [
      "Requirement already satisfied: snowflake-connector-python[pandas] in c:\\users\\siddh\\appdata\\local\\programs\\python\\python312\\lib\\site-packages (3.13.2)\n",
      "Requirement already satisfied: asn1crypto<2.0.0,>0.24.0 in c:\\users\\siddh\\appdata\\local\\programs\\python\\python312\\lib\\site-packages (from snowflake-connector-python[pandas]) (1.5.1)\n",
      "Requirement already satisfied: cffi<2.0.0,>=1.9 in c:\\users\\siddh\\appdata\\local\\programs\\python\\python312\\lib\\site-packages (from snowflake-connector-python[pandas]) (1.17.1)\n",
      "Requirement already satisfied: cryptography>=3.1.0 in c:\\users\\siddh\\appdata\\local\\programs\\python\\python312\\lib\\site-packages (from snowflake-connector-python[pandas]) (44.0.0)\n",
      "Requirement already satisfied: pyOpenSSL<25.0.0,>=22.0.0 in c:\\users\\siddh\\appdata\\local\\programs\\python\\python312\\lib\\site-packages (from snowflake-connector-python[pandas]) (24.3.0)\n",
      "Requirement already satisfied: pyjwt<3.0.0 in c:\\users\\siddh\\appdata\\local\\programs\\python\\python312\\lib\\site-packages (from snowflake-connector-python[pandas]) (2.10.1)\n",
      "Requirement already satisfied: pytz in c:\\users\\siddh\\appdata\\local\\programs\\python\\python312\\lib\\site-packages (from snowflake-connector-python[pandas]) (2025.1)\n",
      "Requirement already satisfied: requests<3.0.0 in c:\\users\\siddh\\appdata\\local\\programs\\python\\python312\\lib\\site-packages (from snowflake-connector-python[pandas]) (2.32.3)\n",
      "Requirement already satisfied: packaging in c:\\users\\siddh\\appdata\\roaming\\python\\python312\\site-packages (from snowflake-connector-python[pandas]) (24.2)\n",
      "Requirement already satisfied: charset_normalizer<4,>=2 in c:\\users\\siddh\\appdata\\local\\programs\\python\\python312\\lib\\site-packages (from snowflake-connector-python[pandas]) (3.4.1)\n",
      "Requirement already satisfied: idna<4,>=2.5 in c:\\users\\siddh\\appdata\\local\\programs\\python\\python312\\lib\\site-packages (from snowflake-connector-python[pandas]) (3.10)\n",
      "Requirement already satisfied: certifi>=2017.4.17 in c:\\users\\siddh\\appdata\\local\\programs\\python\\python312\\lib\\site-packages (from snowflake-connector-python[pandas]) (2025.1.31)\n",
      "Requirement already satisfied: typing_extensions<5,>=4.3 in c:\\users\\siddh\\appdata\\local\\programs\\python\\python312\\lib\\site-packages (from snowflake-connector-python[pandas]) (4.12.2)\n",
      "Requirement already satisfied: filelock<4,>=3.5 in c:\\users\\siddh\\appdata\\local\\programs\\python\\python312\\lib\\site-packages (from snowflake-connector-python[pandas]) (3.17.0)\n",
      "Requirement already satisfied: sortedcontainers>=2.4.0 in c:\\users\\siddh\\appdata\\local\\programs\\python\\python312\\lib\\site-packages (from snowflake-connector-python[pandas]) (2.4.0)\n",
      "Requirement already satisfied: platformdirs<5.0.0,>=2.6.0 in c:\\users\\siddh\\appdata\\roaming\\python\\python312\\site-packages (from snowflake-connector-python[pandas]) (4.3.6)\n",
      "Requirement already satisfied: tomlkit in c:\\users\\siddh\\appdata\\local\\programs\\python\\python312\\lib\\site-packages (from snowflake-connector-python[pandas]) (0.13.2)\n",
      "Requirement already satisfied: pandas<3.0.0,>=1.0.0 in c:\\users\\siddh\\appdata\\local\\programs\\python\\python312\\lib\\site-packages (from snowflake-connector-python[pandas]) (2.2.3)\n",
      "Requirement already satisfied: pyarrow in c:\\users\\siddh\\appdata\\local\\programs\\python\\python312\\lib\\site-packages (from snowflake-connector-python[pandas]) (19.0.0)\n",
      "Requirement already satisfied: pycparser in c:\\users\\siddh\\appdata\\local\\programs\\python\\python312\\lib\\site-packages (from cffi<2.0.0,>=1.9->snowflake-connector-python[pandas]) (2.22)\n",
      "Requirement already satisfied: numpy>=1.26.0 in c:\\users\\siddh\\appdata\\local\\programs\\python\\python312\\lib\\site-packages (from pandas<3.0.0,>=1.0.0->snowflake-connector-python[pandas]) (2.2.2)\n",
      "Requirement already satisfied: python-dateutil>=2.8.2 in c:\\users\\siddh\\appdata\\roaming\\python\\python312\\site-packages (from pandas<3.0.0,>=1.0.0->snowflake-connector-python[pandas]) (2.9.0.post0)\n",
      "Requirement already satisfied: tzdata>=2022.7 in c:\\users\\siddh\\appdata\\local\\programs\\python\\python312\\lib\\site-packages (from pandas<3.0.0,>=1.0.0->snowflake-connector-python[pandas]) (2025.1)\n",
      "Requirement already satisfied: urllib3<3,>=1.21.1 in c:\\users\\siddh\\appdata\\local\\programs\\python\\python312\\lib\\site-packages (from requests<3.0.0->snowflake-connector-python[pandas]) (2.3.0)\n",
      "Requirement already satisfied: six>=1.5 in c:\\users\\siddh\\appdata\\roaming\\python\\python312\\site-packages (from python-dateutil>=2.8.2->pandas<3.0.0,>=1.0.0->snowflake-connector-python[pandas]) (1.17.0)\n"
     ]
    },
    {
     "name": "stderr",
     "output_type": "stream",
     "text": [
      "\n",
      "[notice] A new release of pip is available: 24.3.1 -> 25.0.1\n",
      "[notice] To update, run: python.exe -m pip install --upgrade pip\n"
     ]
    }
   ],
   "source": [
    "! pip install --upgrade \"snowflake-connector-python[pandas]\"\n"
   ]
  },
  {
   "cell_type": "code",
   "execution_count": 37,
   "metadata": {},
   "outputs": [
    {
     "name": "stdout",
     "output_type": "stream",
     "text": [
      "pandas version: 2.2.3\n",
      "pyarrow version: 19.0.0\n"
     ]
    }
   ],
   "source": [
    "import pandas as pd\n",
    "import pyarrow\n",
    "\n",
    "print(\"pandas version:\", pd.__version__)\n",
    "print(\"pyarrow version:\", pyarrow.__version__)\n"
   ]
  },
  {
   "cell_type": "code",
   "execution_count": 6,
   "metadata": {},
   "outputs": [
    {
     "name": "stdout",
     "output_type": "stream",
     "text": [
      "   ID            TITLE     CATEGORY  PRICE  STOCK              CREATED_AT\n",
      "0   1   Wireless Mouse  Electronics  19.99    100 2025-02-11 00:10:08.839\n",
      "1   2  Gaming Keyboard  Electronics  49.99     50 2025-02-11 00:10:08.839\n",
      "2   3    Running Shoes     Footwear  79.99     30 2025-02-11 00:10:08.839\n",
      "3   4       Coffee Mug      Kitchen   9.99    200 2025-02-11 00:10:08.839\n",
      "4   5        Desk Lamp   Home Decor  29.99     75 2025-02-11 00:10:08.839\n"
     ]
    }
   ],
   "source": [
    "cur = session.cursor()\n",
    "data = cur.execute(\"SELECT * FROM TEST_TABLE\")\n",
    "df = data.fetch_pandas_all()\n",
    "print(df.head())\n"
   ]
  }
 ],
 "metadata": {
  "kernelspec": {
   "display_name": "Python 3",
   "language": "python",
   "name": "python3"
  },
  "language_info": {
   "codemirror_mode": {
    "name": "ipython",
    "version": 3
   },
   "file_extension": ".py",
   "mimetype": "text/x-python",
   "name": "python",
   "nbconvert_exporter": "python",
   "pygments_lexer": "ipython3",
   "version": "3.12.9"
  }
 },
 "nbformat": 4,
 "nbformat_minor": 2
}
