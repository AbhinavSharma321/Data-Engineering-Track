{
 "cells": [
  {
   "cell_type": "code",
   "execution_count": 1,
   "id": "839b05e0-5ff0-4a8a-8ada-ea9b89ca09a8",
   "metadata": {},
   "outputs": [
    {
     "name": "stdout",
     "output_type": "stream",
     "text": [
      "Requirement already satisfied: snowflake-connector-python in c:\\users\\abc\\anaconda3\\lib\\site-packages (3.13.2)\n",
      "Requirement already satisfied: asn1crypto<2.0.0,>0.24.0 in c:\\users\\abc\\anaconda3\\lib\\site-packages (from snowflake-connector-python) (1.5.1)\n",
      "Requirement already satisfied: cffi<2.0.0,>=1.9 in c:\\users\\abc\\anaconda3\\lib\\site-packages (from snowflake-connector-python) (1.17.1)\n",
      "Requirement already satisfied: cryptography>=3.1.0 in c:\\users\\abc\\anaconda3\\lib\\site-packages (from snowflake-connector-python) (43.0.0)\n",
      "Requirement already satisfied: pyOpenSSL<25.0.0,>=22.0.0 in c:\\users\\abc\\anaconda3\\lib\\site-packages (from snowflake-connector-python) (24.2.1)\n",
      "Requirement already satisfied: pyjwt<3.0.0 in c:\\users\\abc\\anaconda3\\lib\\site-packages (from snowflake-connector-python) (2.8.0)\n",
      "Requirement already satisfied: pytz in c:\\users\\abc\\anaconda3\\lib\\site-packages (from snowflake-connector-python) (2024.1)\n",
      "Requirement already satisfied: requests<3.0.0 in c:\\users\\abc\\anaconda3\\lib\\site-packages (from snowflake-connector-python) (2.32.3)\n",
      "Requirement already satisfied: packaging in c:\\users\\abc\\anaconda3\\lib\\site-packages (from snowflake-connector-python) (24.1)\n",
      "Requirement already satisfied: charset_normalizer<4,>=2 in c:\\users\\abc\\anaconda3\\lib\\site-packages (from snowflake-connector-python) (3.3.2)\n",
      "Requirement already satisfied: idna<4,>=2.5 in c:\\users\\abc\\anaconda3\\lib\\site-packages (from snowflake-connector-python) (3.7)\n",
      "Requirement already satisfied: certifi>=2017.4.17 in c:\\users\\abc\\anaconda3\\lib\\site-packages (from snowflake-connector-python) (2024.12.14)\n",
      "Requirement already satisfied: typing_extensions<5,>=4.3 in c:\\users\\abc\\anaconda3\\lib\\site-packages (from snowflake-connector-python) (4.11.0)\n",
      "Requirement already satisfied: filelock<4,>=3.5 in c:\\users\\abc\\anaconda3\\lib\\site-packages (from snowflake-connector-python) (3.13.1)\n",
      "Requirement already satisfied: sortedcontainers>=2.4.0 in c:\\users\\abc\\anaconda3\\lib\\site-packages (from snowflake-connector-python) (2.4.0)\n",
      "Requirement already satisfied: platformdirs<5.0.0,>=2.6.0 in c:\\users\\abc\\anaconda3\\lib\\site-packages (from snowflake-connector-python) (3.10.0)\n",
      "Requirement already satisfied: tomlkit in c:\\users\\abc\\anaconda3\\lib\\site-packages (from snowflake-connector-python) (0.11.1)\n",
      "Requirement already satisfied: pycparser in c:\\users\\abc\\anaconda3\\lib\\site-packages (from cffi<2.0.0,>=1.9->snowflake-connector-python) (2.21)\n",
      "Requirement already satisfied: urllib3<3,>=1.21.1 in c:\\users\\abc\\anaconda3\\lib\\site-packages (from requests<3.0.0->snowflake-connector-python) (2.2.3)\n",
      "Note: you may need to restart the kernel to use updated packages.\n"
     ]
    }
   ],
   "source": [
    "pip install --upgrade snowflake-connector-python"
   ]
  },
  {
   "cell_type": "code",
   "execution_count": 55,
   "id": "ae69650b-340f-4477-86b8-9ae98b57e5a8",
   "metadata": {},
   "outputs": [],
   "source": [
    "import snowflake.connector\n",
    "import os\n",
    "import requests\n",
    "PASSWORD = os.getenv('SNOWSQL_PWD')"
   ]
  },
  {
   "cell_type": "code",
   "execution_count": null,
   "id": "c4908164-4b15-4f81-be51-eb4398f1d582",
   "metadata": {
    "scrolled": true
   },
   "outputs": [],
   "source": [
    "try:\n",
    "    ctx = snowflake.connector.connect(\n",
    "        user='ABHINAVSHARMA2002',\n",
    "        password='5eWxWv4EvyCkhkY',\n",
    "        account='qraojwa-yg67137'\n",
    "    )\n",
    "    cs = ctx.cursor()\n",
    "    try:\n",
    "        cs.execute(\"CREATE WAREHOUSE IF NOT EXISTS tiny_warehouse_mg\")\n",
    "        cs.execute(\"CREATE DATABASE IF NOT EXISTS testdb_mg\")\n",
    "        cs.execute(\"USE DATABASE testdb_mg\")\n",
    "        cs.execute(\"CREATE SCHEMA IF NOT EXISTS testschema_mg\")\n",
    "        cs.execute(\"USE WAREHOUSE tiny_warehouse_mg\")\n",
    "        cs.execute(\"USE SCHEMA testschema_mg\")\n",
    "        runQueries(cs)\n",
    "    except Exception as e:\n",
    "        print(f\"Error: {e}\") \n",
    "    finally:\n",
    "        cs.close()\n",
    "        ctx.close()\n",
    "except Exception as e:\n",
    "    print(f\"Error: {e}\")"
   ]
  },
  {
   "cell_type": "code",
   "execution_count": 241,
   "id": "531cfa4b-af16-4099-b1c4-6693d704a78e",
   "metadata": {},
   "outputs": [],
   "source": [
    "def runQueries(cs):\n",
    "    cs.execute(\n",
    "    \"\"\"CREATE OR REPLACE TABLE \n",
    "    article_table_2(id INT AUTOINCREMENT PRIMARY KEY, article_name string)\"\"\")\n",
    "    data = fetch_api()\n",
    "    count = int(data['totalResults'])\n",
    "    articles = data['articles']\n",
    "    for x in range(0,count):\n",
    "        singleArticle = articles[0]\n",
    "        query = \"INSERT INTO article_table_2(article_name) VALUES (%s)\"\n",
    "        cs.execute(query.strip(),(str(singleArticle['source']['name'])))\n",
    "    out = cs.fetchall()\n",
    "    print(out[0])"
   ]
  },
  {
   "cell_type": "code",
   "execution_count": 135,
   "id": "436b8a93-786a-4aac-9bce-6b252001a39c",
   "metadata": {},
   "outputs": [],
   "source": [
    "def fetch_api():\n",
    "    url = f\"https://newsapi.org/v2/everything?q=apple&from=2025-02-05&to=2025-02-05&sortBy=popularity&apiKey=6725c58e80a8406598187079b42ed0dc\"\n",
    "    response = requests.get(url)\n",
    "    \n",
    "    if response.status_code == 200:\n",
    "        data = response.json()\n",
    "        return data\n",
    "    else:\n",
    "        print(\"Error fetching exchange rate. Please check your input and try again.\")\n",
    "        return None"
   ]
  },
  {
   "cell_type": "code",
   "execution_count": 169,
   "id": "552a7022-d1c4-4f35-a2fd-e1ab1bc77de3",
   "metadata": {},
   "outputs": [],
   "source": [
    "def safe_sql_string(value):\n",
    "    \"\"\"Wraps string values in single quotes and escapes internal single quotes.\"\"\"\n",
    "    return f\"'{value.replace(\"'\", \"''\")}'\" if isinstance(value, str) else str(value)"
   ]
  }
 ],
 "metadata": {
  "kernelspec": {
   "display_name": "Python [conda env:base] *",
   "language": "python",
   "name": "conda-base-py"
  },
  "language_info": {
   "codemirror_mode": {
    "name": "ipython",
    "version": 3
   },
   "file_extension": ".py",
   "mimetype": "text/x-python",
   "name": "python",
   "nbconvert_exporter": "python",
   "pygments_lexer": "ipython3",
   "version": "3.12.7"
  }
 },
 "nbformat": 4,
 "nbformat_minor": 5
}
