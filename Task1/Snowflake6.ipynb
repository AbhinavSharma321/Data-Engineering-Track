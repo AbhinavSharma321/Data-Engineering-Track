{
 "cells": [
  {
   "cell_type": "code",
   "execution_count": 1,
   "id": "877c6f9b-06ae-4a25-99c9-3e521361fa25",
   "metadata": {},
   "outputs": [
    {
     "name": "stdout",
     "output_type": "stream",
     "text": [
      "            Date  Fiscal Year  Fiscal Quarter  Fiscal Month  Calendar Year  \\\n",
      "0     2024-02-01         2024               1             2           2024   \n",
      "1     2024-02-02         2024               1             2           2024   \n",
      "2     2024-02-03         2024               1             2           2024   \n",
      "3     2024-02-04         2024               1             2           2024   \n",
      "4     2024-02-05         2024               1             2           2024   \n",
      "...          ...          ...             ...           ...            ...   \n",
      "9857  2051-01-27         2050               4             1           2051   \n",
      "9858  2051-01-28         2050               4             1           2051   \n",
      "9859  2051-01-29         2050               4             1           2051   \n",
      "9860  2051-01-30         2050               4             1           2051   \n",
      "9861  2051-01-31         2050               4             1           2051   \n",
      "\n",
      "      Calendar Quarter  Calendar Month  Week of Year Day of Week  \\\n",
      "0                    1               2             5    Thursday   \n",
      "1                    1               2             5      Friday   \n",
      "2                    1               2             5    Saturday   \n",
      "3                    1               2             5      Sunday   \n",
      "4                    1               2             6      Monday   \n",
      "...                ...             ...           ...         ...   \n",
      "9857                 1               1             4      Friday   \n",
      "9858                 1               1             4    Saturday   \n",
      "9859                 1               1             4      Sunday   \n",
      "9860                 1               1             5      Monday   \n",
      "9861                 1               1             5     Tuesday   \n",
      "\n",
      "     Calendar Month Name  Fiscal Week  \n",
      "0               February            1  \n",
      "1               February            1  \n",
      "2               February            1  \n",
      "3               February            1  \n",
      "4               February            1  \n",
      "...                  ...          ...  \n",
      "9857             January           52  \n",
      "9858             January           52  \n",
      "9859             January           52  \n",
      "9860             January           52  \n",
      "9861             January           53  \n",
      "\n",
      "[9862 rows x 11 columns]\n"
     ]
    }
   ],
   "source": [
    "import pandas as pd\n",
    "import json\n",
    "import os\n",
    "\n",
    "folder_path = \"Sample Data\"\n",
    "file_name = \"fiscal_calendar.csv\"\n",
    "file_path = os.path.join(folder_path, file_name)\n",
    "\n",
    "with open(file_path, \"r\", encoding=\"utf-8\") as f:\n",
    "    df = pd.read_csv(f)\n",
    "print(df)\n",
    "# Convert column names dynamically\n",
    "df.columns = (\n",
    "    df.columns.str.strip()  # Remove leading/trailing spaces\n",
    "    .str.lower()            # Convert to lowercase\n",
    "    .str.replace(\" \", \"_\")  # Replace spaces with underscores\n",
    "    .str.replace(r\"[^\\w\\s]\", \"\", regex=True)  # Remove special characters\n",
    ")"
   ]
  },
  {
   "cell_type": "code",
   "execution_count": 3,
   "id": "8fa46058-06f6-4e17-bf65-a566528cd3b8",
   "metadata": {},
   "outputs": [
    {
     "name": "stdout",
     "output_type": "stream",
     "text": [
      "5eWxWv4EvyCkhkY\n"
     ]
    }
   ],
   "source": [
    "import snowflake.connector\n",
    "import os\n",
    "import requests\n",
    "PASSWORD = os.getenv('SNOWSQL_PWD')\n",
    "print(PASSWORD)"
   ]
  },
  {
   "cell_type": "code",
   "execution_count": null,
   "id": "64a4830d-ea7c-40cc-ac52-d13c5845d7bb",
   "metadata": {},
   "outputs": [],
   "source": [
    "try:\n",
    "    ctx = snowflake.connector.connect(\n",
    "        user='ABHINAVSHARMA2002',\n",
    "        password=PASSWORD,\n",
    "        account='qraojwa-yg67137'\n",
    "    )\n",
    "    cs = ctx.cursor()\n",
    "    try:\n",
    "        cs.execute(\"CREATE WAREHOUSE IF NOT EXISTS task_1_warehouse_mg\")\n",
    "        cs.execute(\"CREATE DATABASE IF NOT EXISTS testdb_mg\")\n",
    "        cs.execute(\"USE DATABASE testdb_mg\")\n",
    "        cs.execute(\"CREATE SCHEMA IF NOT EXISTS task_1_mg\")\n",
    "        cs.execute(\"USE WAREHOUSE task_1_warehouse_mg\")\n",
    "        cs.execute(\"USE SCHEMA task_1_mg\")\n",
    "        runQueries(cs,df)\n",
    "    except Exception as e:\n",
    "        print(f\"Error: {e}\") \n",
    "    finally:\n",
    "        cs.close()\n",
    "        ctx.close()\n",
    "except Exception as e:\n",
    "    print(f\"Error: {e}\")"
   ]
  },
  {
   "cell_type": "code",
   "execution_count": 5,
   "id": "a6a83c35-891c-4fd2-8b09-bf09839c0cb1",
   "metadata": {},
   "outputs": [],
   "source": [
    "def runQueries(cs,df):    \n",
    "    # Rename specific columns\n",
    "    #df[\"customer_id\"] = df[\"customer_id\"].astype(str)\n",
    "    df = df.astype(str).apply(lambda col: col.map(lambda x: None if pd.isna(x) or x == \"\" or str(x).strip().lower() == \"nan\" else x))\n",
    "\n",
    "    # Generate CREATE TABLE statement dynamically\n",
    "    table_name = \"article_table_pandas_3\"\n",
    "    columns = \", \".join([f'{col} STRING' for col in df.columns])\n",
    "    create_table_sql = f'CREATE OR REPLACE TABLE {table_name} ({columns})'\n",
    "    cs.execute(create_table_sql)\n",
    "\n",
    "    # Insert data into Snowflake\n",
    "    for _, row in df.iterrows():\n",
    "        placeholders = \", \".join([\"%s\"] * len(row))\n",
    "        insert_sql = f'INSERT INTO {table_name} ({\", \".join(df.columns)}) VALUES ({placeholders})'\n",
    "        cs.execute(insert_sql, tuple(row))"
   ]
  }
 ],
 "metadata": {
  "kernelspec": {
   "display_name": "Python [conda env:base] *",
   "language": "python",
   "name": "conda-base-py"
  },
  "language_info": {
   "codemirror_mode": {
    "name": "ipython",
    "version": 3
   },
   "file_extension": ".py",
   "mimetype": "text/x-python",
   "name": "python",
   "nbconvert_exporter": "python",
   "pygments_lexer": "ipython3",
   "version": "3.12.7"
  }
 },
 "nbformat": 4,
 "nbformat_minor": 5
}
