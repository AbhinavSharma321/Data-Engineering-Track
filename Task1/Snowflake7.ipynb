{
 "cells": [
  {
   "cell_type": "code",
   "execution_count": 1,
   "id": "877c6f9b-06ae-4a25-99c9-3e521361fa25",
   "metadata": {},
   "outputs": [
    {
     "name": "stdout",
     "output_type": "stream",
     "text": [
      "      Order ID        Date  Customer ID  Product ID  Quantity  Total Price  \\\n",
      "0       764380  2024-01-01           25           6         3      1873.53   \n",
      "1       879729  2024-01-01           46          18         5     10431.50   \n",
      "2       134106  2024-01-01           22           1         3      6253.98   \n",
      "3       926818  2024-01-01           93          20         2       889.48   \n",
      "4       141647  2024-01-01           13          12         5     10995.65   \n",
      "...        ...         ...          ...         ...       ...          ...   \n",
      "2663    900230  2025-02-10           27           9         2      4221.38   \n",
      "2664    795612  2025-02-10           90          13         2      1851.38   \n",
      "2665    420965  2025-02-10           46           6         4      2498.04   \n",
      "2666    539693  2025-02-10           98           3         2       698.44   \n",
      "2667    448311  2025-02-10           78          18         1      2086.30   \n",
      "\n",
      "       Profit  \n",
      "0      526.21  \n",
      "1     1295.49  \n",
      "2      737.54  \n",
      "3      266.11  \n",
      "4     3273.33  \n",
      "...       ...  \n",
      "2663   509.45  \n",
      "2664   547.31  \n",
      "2665   312.50  \n",
      "2666   143.01  \n",
      "2667   623.40  \n",
      "\n",
      "[2668 rows x 7 columns]\n"
     ]
    }
   ],
   "source": [
    "import pandas as pd\n",
    "import json\n",
    "import os\n",
    "\n",
    "folder_path = \"Sample Data\"\n",
    "file_name = \"orders.csv\"\n",
    "file_path = os.path.join(folder_path, file_name)\n",
    "\n",
    "with open(file_path, \"r\", encoding=\"utf-8\") as f:\n",
    "    df = pd.read_csv(f)\n",
    "print(df)\n",
    "# Convert column names dynamically\n",
    "df.columns = (\n",
    "    df.columns.str.strip()  # Remove leading/trailing spaces\n",
    "    .str.lower()            # Convert to lowercase\n",
    "    .str.replace(\" \", \"_\")  # Replace spaces with underscores\n",
    "    .str.replace(r\"[^\\w\\s]\", \"\", regex=True)  # Remove special characters\n",
    ")"
   ]
  },
  {
   "cell_type": "code",
   "execution_count": 3,
   "id": "8fa46058-06f6-4e17-bf65-a566528cd3b8",
   "metadata": {},
   "outputs": [
    {
     "name": "stdout",
     "output_type": "stream",
     "text": [
      "5eWxWv4EvyCkhkY\n"
     ]
    }
   ],
   "source": [
    "import snowflake.connector\n",
    "import os\n",
    "import requests\n",
    "PASSWORD = os.getenv('SNOWSQL_PWD')\n",
    "print(PASSWORD)"
   ]
  },
  {
   "cell_type": "code",
   "execution_count": 7,
   "id": "64a4830d-ea7c-40cc-ac52-d13c5845d7bb",
   "metadata": {},
   "outputs": [],
   "source": [
    "try:\n",
    "    ctx = snowflake.connector.connect(\n",
    "        user='ABHINAVSHARMA2002',\n",
    "        password=PASSWORD,\n",
    "        account='qraojwa-yg67137'\n",
    "    )\n",
    "    cs = ctx.cursor()\n",
    "    try:\n",
    "        cs.execute(\"CREATE WAREHOUSE IF NOT EXISTS task_1_warehouse_mg\")\n",
    "        cs.execute(\"CREATE DATABASE IF NOT EXISTS testdb_mg\")\n",
    "        cs.execute(\"USE DATABASE testdb_mg\")\n",
    "        cs.execute(\"CREATE SCHEMA IF NOT EXISTS task_1_mg\")\n",
    "        cs.execute(\"USE WAREHOUSE task_1_warehouse_mg\")\n",
    "        cs.execute(\"USE SCHEMA task_1_mg\")\n",
    "        runQueries(cs,df)\n",
    "    except Exception as e:\n",
    "        print(f\"Error: {e}\") \n",
    "    finally:\n",
    "        cs.close()\n",
    "        ctx.close()\n",
    "except Exception as e:\n",
    "    print(f\"Error: {e}\")"
   ]
  },
  {
   "cell_type": "code",
   "execution_count": 5,
   "id": "a6a83c35-891c-4fd2-8b09-bf09839c0cb1",
   "metadata": {},
   "outputs": [],
   "source": [
    "def runQueries(cs,df):    \n",
    "    # Rename specific columns\n",
    "    #df[\"customer_id\"] = df[\"customer_id\"].astype(str)\n",
    "    df = df.astype(str).apply(lambda col: col.map(lambda x: None if pd.isna(x) or x == \"\" or str(x).strip().lower() == \"nan\" else x))\n",
    "\n",
    "    # Generate CREATE TABLE statement dynamically\n",
    "    table_name = \"article_table_pandas_4\"\n",
    "    columns = \", \".join([f'{col} STRING' for col in df.columns])\n",
    "    create_table_sql = f'CREATE OR REPLACE TABLE {table_name} ({columns})'\n",
    "    cs.execute(create_table_sql)\n",
    "\n",
    "    # Insert data into Snowflake\n",
    "    for _, row in df.iterrows():\n",
    "        placeholders = \", \".join([\"%s\"] * len(row))\n",
    "        insert_sql = f'INSERT INTO {table_name} ({\", \".join(df.columns)}) VALUES ({placeholders})'\n",
    "        cs.execute(insert_sql, tuple(row))"
   ]
  }
 ],
 "metadata": {
  "kernelspec": {
   "display_name": "Python [conda env:base] *",
   "language": "python",
   "name": "conda-base-py"
  },
  "language_info": {
   "codemirror_mode": {
    "name": "ipython",
    "version": 3
   },
   "file_extension": ".py",
   "mimetype": "text/x-python",
   "name": "python",
   "nbconvert_exporter": "python",
   "pygments_lexer": "ipython3",
   "version": "3.12.7"
  }
 },
 "nbformat": 4,
 "nbformat_minor": 5
}
