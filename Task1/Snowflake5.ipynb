{
 "cells": [
  {
   "cell_type": "code",
   "execution_count": 10,
   "id": "877c6f9b-06ae-4a25-99c9-3e521361fa25",
   "metadata": {},
   "outputs": [
    {
     "name": "stdout",
     "output_type": "stream",
     "text": [
      "              Date Source Currency Target Currency  Exchange Rate\n",
      "0       2024-01-01             EUR             USD         1.4930\n",
      "1       2024-01-01             GBP             USD         0.8467\n",
      "2       2024-01-01             INR             USD         1.1532\n",
      "3       2024-01-01             JPY             USD         0.7640\n",
      "4       2024-01-01             AUD             USD         0.5242\n",
      "...            ...             ...             ...            ...\n",
      "147925  2050-12-31             SGD             USD         1.0694\n",
      "147926  2050-12-31             HKD             USD         1.2395\n",
      "147927  2050-12-31             KRW             USD         1.4668\n",
      "147928  2050-12-31             BRL             USD         1.1051\n",
      "147929  2050-12-31             ZAR             USD         0.8718\n",
      "\n",
      "[147930 rows x 4 columns]\n"
     ]
    }
   ],
   "source": [
    "import pandas as pd\n",
    "import json\n",
    "import os\n",
    "\n",
    "folder_path = \"Sample Data\"\n",
    "file_name = \"exchange_rates.csv\"\n",
    "file_path = os.path.join(folder_path, file_name)\n",
    "\n",
    "with open(file_path, \"r\", encoding=\"utf-8\") as f:\n",
    "    df = pd.read_csv(f)\n",
    "print(df)\n",
    "# Convert column names dynamically\n",
    "df.columns = (\n",
    "    df.columns.str.strip()  # Remove leading/trailing spaces\n",
    "    .str.lower()            # Convert to lowercase\n",
    "    .str.replace(\" \", \"_\")  # Replace spaces with underscores\n",
    "    .str.replace(r\"[^\\w\\s]\", \"\", regex=True)  # Remove special characters\n",
    ")"
   ]
  },
  {
   "cell_type": "code",
   "execution_count": 12,
   "id": "8fa46058-06f6-4e17-bf65-a566528cd3b8",
   "metadata": {},
   "outputs": [
    {
     "name": "stdout",
     "output_type": "stream",
     "text": [
      "5eWxWv4EvyCkhkY\n"
     ]
    }
   ],
   "source": [
    "import snowflake.connector\n",
    "import os\n",
    "import requests\n",
    "PASSWORD = os.getenv('SNOWSQL_PWD')\n",
    "print(PASSWORD)"
   ]
  },
  {
   "cell_type": "code",
   "execution_count": null,
   "id": "64a4830d-ea7c-40cc-ac52-d13c5845d7bb",
   "metadata": {},
   "outputs": [],
   "source": [
    "try:\n",
    "    ctx = snowflake.connector.connect(\n",
    "        user='ABHINAVSHARMA2002',\n",
    "        password=PASSWORD,\n",
    "        account='qraojwa-yg67137'\n",
    "    )\n",
    "    cs = ctx.cursor()\n",
    "    try:\n",
    "        cs.execute(\"CREATE WAREHOUSE IF NOT EXISTS task_1_warehouse_mg\")\n",
    "        cs.execute(\"CREATE DATABASE IF NOT EXISTS testdb_mg\")\n",
    "        cs.execute(\"USE DATABASE testdb_mg\")\n",
    "        cs.execute(\"CREATE SCHEMA IF NOT EXISTS task_1_mg\")\n",
    "        cs.execute(\"USE WAREHOUSE task_1_warehouse_mg\")\n",
    "        cs.execute(\"USE SCHEMA task_1_mg\")\n",
    "        runQueries(cs,df)\n",
    "    except Exception as e:\n",
    "        print(f\"Error: {e}\") \n",
    "    finally:\n",
    "        cs.close()\n",
    "        ctx.close()\n",
    "except Exception as e:\n",
    "    print(f\"Error: {e}\")"
   ]
  },
  {
   "cell_type": "code",
   "execution_count": 14,
   "id": "a6a83c35-891c-4fd2-8b09-bf09839c0cb1",
   "metadata": {},
   "outputs": [],
   "source": [
    "def runQueries(cs,df):    \n",
    "    # Rename specific columns\n",
    "    #df[\"customer_id\"] = df[\"customer_id\"].astype(str)\n",
    "    df = df.astype(str).apply(lambda col: col.map(lambda x: None if pd.isna(x) or x == \"\" or str(x).strip().lower() == \"nan\" else x))\n",
    "\n",
    "    # Generate CREATE TABLE statement dynamically\n",
    "    table_name = \"article_table_pandas_2\"\n",
    "    columns = \", \".join([f'{col} STRING' for col in df.columns])\n",
    "    create_table_sql = f'CREATE OR REPLACE TABLE {table_name} ({columns})'\n",
    "    cs.execute(create_table_sql)\n",
    "\n",
    "    # Insert data into Snowflake\n",
    "    for _, row in df.iterrows():\n",
    "        placeholders = \", \".join([\"%s\"] * len(row))\n",
    "        insert_sql = f'INSERT INTO {table_name} ({\", \".join(df.columns)}) VALUES ({placeholders})'\n",
    "        cs.execute(insert_sql, tuple(row))"
   ]
  }
 ],
 "metadata": {
  "kernelspec": {
   "display_name": "Python [conda env:base] *",
   "language": "python",
   "name": "conda-base-py"
  },
  "language_info": {
   "codemirror_mode": {
    "name": "ipython",
    "version": 3
   },
   "file_extension": ".py",
   "mimetype": "text/x-python",
   "name": "python",
   "nbconvert_exporter": "python",
   "pygments_lexer": "ipython3",
   "version": "3.12.7"
  }
 },
 "nbformat": 4,
 "nbformat_minor": 5
}
