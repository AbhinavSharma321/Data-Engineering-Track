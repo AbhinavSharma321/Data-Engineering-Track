{
 "cells": [
  {
   "cell_type": "code",
   "execution_count": 1,
   "id": "877c6f9b-06ae-4a25-99c9-3e521361fa25",
   "metadata": {},
   "outputs": [
    {
     "name": "stdout",
     "output_type": "stream",
     "text": [
      "    Product ID                Product Name     Category Sub Category    Price  \\\n",
      "0            1                      Laptop  Electronics       Mobile  2084.66   \n",
      "1            2                  Smartphone  Electronics        Audio  2948.17   \n",
      "2            3                      Tablet  Electronics       Gaming   349.22   \n",
      "3            4                  Smartwatch  Electronics       Gaming  1803.71   \n",
      "4            5            Wireless Earbuds  Electronics       Gaming   616.41   \n",
      "5            6              Gaming Console  Electronics       Gaming   624.51   \n",
      "6            7                     Monitor  Electronics        Audio  2307.92   \n",
      "7            8         Mechanical Keyboard  Electronics        Audio   459.38   \n",
      "8            9         External Hard Drive  Electronics  Accessories  2110.69   \n",
      "9           10                    Smart TV  Electronics  Accessories   611.33   \n",
      "10          11           Bluetooth Speaker  Electronics    Computing  2041.78   \n",
      "11          12                  VR Headset  Electronics        Audio  2199.13   \n",
      "12          13                       Drone  Electronics     Wearable   925.69   \n",
      "13          14               Action Camera  Electronics        Audio  2048.76   \n",
      "14          15                  Power Bank  Electronics       Gaming  1736.19   \n",
      "15          16               Graphics Card  Electronics     Wearable  2034.41   \n",
      "16          17             Wireless Router  Electronics       Gaming  1206.46   \n",
      "17          18                    E-Reader  Electronics        Audio  2086.30   \n",
      "18          19          Portable Projector  Electronics       Gaming   885.96   \n",
      "19          20  Noise-Canceling Headphones  Electronics        Audio   444.74   \n",
      "\n",
      "   Price Currency  Stock  \n",
      "0             USD     94  \n",
      "1             USD     91  \n",
      "2             USD     55  \n",
      "3             USD     81  \n",
      "4             USD     42  \n",
      "5             USD     23  \n",
      "6             USD     38  \n",
      "7             USD     67  \n",
      "8             USD     58  \n",
      "9             USD     85  \n",
      "10            USD     29  \n",
      "11            USD     19  \n",
      "12            USD     59  \n",
      "13            USD     26  \n",
      "14            USD     73  \n",
      "15            USD     11  \n",
      "16            USD      6  \n",
      "17            USD     67  \n",
      "18            USD     23  \n",
      "19            USD     24  \n"
     ]
    }
   ],
   "source": [
    "import pandas as pd\n",
    "import json\n",
    "import os\n",
    "\n",
    "folder_path = \"Sample Data\"\n",
    "file_name = \"products.csv\"\n",
    "file_path = os.path.join(folder_path, file_name)\n",
    "\n",
    "with open(file_path, \"r\", encoding=\"utf-8\") as f:\n",
    "    df = pd.read_csv(f)\n",
    "print(df)\n",
    "# Convert column names dynamically\n",
    "df.columns = (\n",
    "    df.columns.str.strip()  # Remove leading/trailing spaces\n",
    "    .str.lower()            # Convert to lowercase\n",
    "    .str.replace(\" \", \"_\")  # Replace spaces with underscores\n",
    "    .str.replace(r\"[^\\w\\s]\", \"\", regex=True)  # Remove special characters\n",
    ")"
   ]
  },
  {
   "cell_type": "code",
   "execution_count": 3,
   "id": "8fa46058-06f6-4e17-bf65-a566528cd3b8",
   "metadata": {},
   "outputs": [
    {
     "name": "stdout",
     "output_type": "stream",
     "text": [
      "5eWxWv4EvyCkhkY\n"
     ]
    }
   ],
   "source": [
    "import snowflake.connector\n",
    "import os\n",
    "import requests\n",
    "PASSWORD = os.getenv('SNOWSQL_PWD')\n",
    "print(PASSWORD)"
   ]
  },
  {
   "cell_type": "code",
   "execution_count": 9,
   "id": "64a4830d-ea7c-40cc-ac52-d13c5845d7bb",
   "metadata": {},
   "outputs": [],
   "source": [
    "try:\n",
    "    ctx = snowflake.connector.connect(\n",
    "        user='ABHINAVSHARMA2002',\n",
    "        password=PASSWORD,\n",
    "        account='qraojwa-yg67137'\n",
    "    )\n",
    "    cs = ctx.cursor()\n",
    "    try:\n",
    "        cs.execute(\"CREATE WAREHOUSE IF NOT EXISTS task_1_warehouse_mg\")\n",
    "        cs.execute(\"CREATE DATABASE IF NOT EXISTS testdb_mg\")\n",
    "        cs.execute(\"USE DATABASE testdb_mg\")\n",
    "        cs.execute(\"CREATE SCHEMA IF NOT EXISTS task_1_mg\")\n",
    "        cs.execute(\"USE WAREHOUSE task_1_warehouse_mg\")\n",
    "        cs.execute(\"USE SCHEMA task_1_mg\")\n",
    "        runQueries(cs,df)\n",
    "    except Exception as e:\n",
    "        print(f\"Error: {e}\") \n",
    "    finally:\n",
    "        cs.close()\n",
    "        ctx.close()\n",
    "except Exception as e:\n",
    "    print(f\"Error: {e}\")"
   ]
  },
  {
   "cell_type": "code",
   "execution_count": 7,
   "id": "a6a83c35-891c-4fd2-8b09-bf09839c0cb1",
   "metadata": {},
   "outputs": [],
   "source": [
    "def runQueries(cs,df):    \n",
    "    # Rename specific columns\n",
    "    #df[\"customer_id\"] = df[\"customer_id\"].astype(str)\n",
    "    df = df.astype(str).apply(lambda col: col.map(lambda x: None if pd.isna(x) or x == \"\" or str(x).strip().lower() == \"nan\" else x))\n",
    "\n",
    "    # Generate CREATE TABLE statement dynamically\n",
    "    table_name = \"article_table_pandas_5\"\n",
    "    columns = \", \".join([f'{col} STRING' for col in df.columns])\n",
    "    create_table_sql = f'CREATE OR REPLACE TABLE {table_name} ({columns})'\n",
    "    cs.execute(create_table_sql)\n",
    "\n",
    "    # Insert data into Snowflake\n",
    "    for _, row in df.iterrows():\n",
    "        placeholders = \", \".join([\"%s\"] * len(row))\n",
    "        insert_sql = f'INSERT INTO {table_name} ({\", \".join(df.columns)}) VALUES ({placeholders})'\n",
    "        cs.execute(insert_sql, tuple(row))"
   ]
  }
 ],
 "metadata": {
  "kernelspec": {
   "display_name": "Python [conda env:base] *",
   "language": "python",
   "name": "conda-base-py"
  },
  "language_info": {
   "codemirror_mode": {
    "name": "ipython",
    "version": 3
   },
   "file_extension": ".py",
   "mimetype": "text/x-python",
   "name": "python",
   "nbconvert_exporter": "python",
   "pygments_lexer": "ipython3",
   "version": "3.12.7"
  }
 },
 "nbformat": 4,
 "nbformat_minor": 5
}
