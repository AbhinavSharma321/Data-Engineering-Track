{
 "cells": [
  {
   "cell_type": "code",
   "execution_count": 34,
   "id": "877c6f9b-06ae-4a25-99c9-3e521361fa25",
   "metadata": {},
   "outputs": [
    {
     "name": "stdout",
     "output_type": "stream",
     "text": [
      "    Customer ID       Customer Name Region                      Email  \\\n",
      "0             1         Lauren Barr  North        morganamy@gmail.com   \n",
      "1             2          Mary Beard  South      shannon87@hotmail.com   \n",
      "2             3     Keith Rodriguez  North   charlesbarnes@reeves.com   \n",
      "3             4       Karen Frazier   East       fhernandez@yahoo.com   \n",
      "4             5       James Harrell  South         john44@mcbride.biz   \n",
      "..          ...                 ...    ...                        ...   \n",
      "95           96     Christina Lopez  South    melindaoneill@yahoo.com   \n",
      "96           97      Laura Mitchell   West          erica48@yahoo.com   \n",
      "97           98  Christopher Chavez  South  stephaniecooper@gmail.com   \n",
      "98           99     Victoria Curtis  South     davidgilbert@gmail.com   \n",
      "99          100       Valerie Wells  North         angel71@rogers.org   \n",
      "\n",
      "                     Phone     Industry    Customer City    Country    Zip  \n",
      "0   001-508-070-2916x67243   Healthcare    Johnstonville         UK  77597  \n",
      "1             420-109-5170    Education  Port Shelleyton  Australia  86104  \n",
      "2     001-789-191-8379x677  Hospitality   West Tracyfurt      India  57612  \n",
      "3     +1-021-627-2409x9163    Education       Samuelport     France   8929  \n",
      "4       091.780.9802x12362       Retail      Jessicabury        USA  30154  \n",
      "..                     ...          ...              ...        ...    ...  \n",
      "95     (968)396-7459x04983  Hospitality       Andrewport        USA  85504  \n",
      "96     (899)525-6049x70207  Hospitality     Matthewmouth  Australia  69819  \n",
      "97     +1-675-857-2113x944   Healthcare  South Jacobview      India  99837  \n",
      "98    001-997-705-1977x706       Retail     Port Michael     France  81757  \n",
      "99      (378)851-9716x2973    Education  Lake Robertside     Canada  82423  \n",
      "\n",
      "[100 rows x 9 columns]\n"
     ]
    }
   ],
   "source": [
    "import pandas as pd\n",
    "import json\n",
    "import os\n",
    "\n",
    "folder_path = \"Sample Data\"\n",
    "file_name = \"customers.csv\"\n",
    "file_path = os.path.join(folder_path, file_name)\n",
    "\n",
    "with open(file_path, \"r\", encoding=\"utf-8\") as f:\n",
    "    df = pd.read_csv(f)\n",
    "print(df)\n",
    "# Convert column names dynamically\n",
    "df.columns = (\n",
    "    df.columns.str.strip()  # Remove leading/trailing spaces\n",
    "    .str.lower()            # Convert to lowercase\n",
    "    .str.replace(\" \", \"_\")  # Replace spaces with underscores\n",
    "    .str.replace(r\"[^\\w\\s]\", \"\", regex=True)  # Remove special characters\n",
    ")"
   ]
  },
  {
   "cell_type": "code",
   "execution_count": 36,
   "id": "8fa46058-06f6-4e17-bf65-a566528cd3b8",
   "metadata": {},
   "outputs": [
    {
     "name": "stdout",
     "output_type": "stream",
     "text": [
      "5eWxWv4EvyCkhkY\n"
     ]
    }
   ],
   "source": [
    "import snowflake.connector\n",
    "import os\n",
    "import requests\n",
    "PASSWORD = os.getenv('SNOWSQL_PWD')\n",
    "print(PASSWORD)"
   ]
  },
  {
   "cell_type": "code",
   "execution_count": 42,
   "id": "64a4830d-ea7c-40cc-ac52-d13c5845d7bb",
   "metadata": {},
   "outputs": [],
   "source": [
    "try:\n",
    "    ctx = snowflake.connector.connect(\n",
    "        user='ABHINAVSHARMA2002',\n",
    "        password=PASSWORD,\n",
    "        account='qraojwa-yg67137'\n",
    "    )\n",
    "    cs = ctx.cursor()\n",
    "    try:\n",
    "        cs.execute(\"CREATE WAREHOUSE IF NOT EXISTS task_1_warehouse_mg\")\n",
    "        cs.execute(\"CREATE DATABASE IF NOT EXISTS testdb_mg\")\n",
    "        cs.execute(\"USE DATABASE testdb_mg\")\n",
    "        cs.execute(\"CREATE SCHEMA IF NOT EXISTS task_1_mg\")\n",
    "        cs.execute(\"USE WAREHOUSE task_1_warehouse_mg\")\n",
    "        cs.execute(\"USE SCHEMA task_1_mg\")\n",
    "        runQueries(cs,df)\n",
    "    except Exception as e:\n",
    "        print(f\"Error: {e}\") \n",
    "    finally:\n",
    "        cs.close()\n",
    "        ctx.close()\n",
    "except Exception as e:\n",
    "    print(f\"Error: {e}\")"
   ]
  },
  {
   "cell_type": "code",
   "execution_count": 44,
   "id": "a6a83c35-891c-4fd2-8b09-bf09839c0cb1",
   "metadata": {},
   "outputs": [],
   "source": [
    "def runQueries(cs,df):    \n",
    "    df = df.astype(str).apply(lambda col: col.map(lambda x: None if pd.isna(x) or x == \"\" or str(x).strip().lower() == \"nan\" else x))\n",
    "\n",
    "    # Generate CREATE TABLE statement dynamically\n",
    "    table_name = \"article_table_pandas_1\"\n",
    "    columns = \", \".join([f'{col} STRING' for col in df.columns])\n",
    "    create_table_sql = f'CREATE OR REPLACE TABLE {table_name} ({columns})'\n",
    "    cs.execute(create_table_sql)\n",
    "\n",
    "    # Insert data into Snowflake\n",
    "    for _, row in df.iterrows():\n",
    "        placeholders = \", \".join([\"%s\"] * len(row))\n",
    "        insert_sql = f'INSERT INTO {table_name} ({\", \".join(df.columns)}) VALUES ({placeholders})'\n",
    "        cs.execute(insert_sql, tuple(row))"
   ]
  }
 ],
 "metadata": {
  "kernelspec": {
   "display_name": "Python [conda env:base] *",
   "language": "python",
   "name": "conda-base-py"
  },
  "language_info": {
   "codemirror_mode": {
    "name": "ipython",
    "version": 3
   },
   "file_extension": ".py",
   "mimetype": "text/x-python",
   "name": "python",
   "nbconvert_exporter": "python",
   "pygments_lexer": "ipython3",
   "version": "3.12.7"
  }
 },
 "nbformat": 4,
 "nbformat_minor": 5
}
