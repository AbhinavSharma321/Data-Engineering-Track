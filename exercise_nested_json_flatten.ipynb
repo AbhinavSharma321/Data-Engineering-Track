{
 "cells": [
  {
   "cell_type": "code",
   "execution_count": 1,
   "metadata": {},
   "outputs": [],
   "source": [
    "import json\n",
    "import pandas as pd\n",
    "import numpy as np\n",
    "\n",
    "# Load JSON from file\n",
    "with open(\"sample_data/demo_data.json\", \"r\") as file:\n",
    "    json_data = json.load(file)"
   ]
  },
  {
   "cell_type": "code",
   "execution_count": 2,
   "metadata": {},
   "outputs": [],
   "source": [
    "# Flatten JSON\n",
    "data = []\n",
    "for product in json_data.get(\"demo_products\", []):\n",
    "    data.append({\n",
    "        \"id\": product.get(\"id\", np.nan),\n",
    "        \"name\": product.get(\"name\", None),\n",
    "        \"category\": product.get(\"category\", None),\n",
    "        \"price_amount\": product.get(\"price\", {}).get(\"amount\", np.nan),\n",
    "        \"price_currency\": product.get(\"price\", {}).get(\"currency\", None),\n",
    "        \"discount_percentage\": product.get(\"price\", {}).get(\"discount\", {}).get(\"percentage\", np.nan),\n",
    "        \"discount_valid_until\": product.get(\"price\", {}).get(\"discount\", {}).get(\"valid_until\", None),\n",
    "        \"in_stock\": product.get(\"availability\", {}).get(\"status\", {}).get(\"in_stock\", np.nan),\n",
    "        \"quantity\": product.get(\"availability\", {}).get(\"status\", {}).get(\"quantity\", np.nan)\n",
    "    })\n"
   ]
  },
  {
   "cell_type": "code",
   "execution_count": 3,
   "metadata": {},
   "outputs": [
    {
     "name": "stdout",
     "output_type": "stream",
     "text": [
      "   id                           name     category price_amount price_currency  \\\n",
      "0   1  Wireless Bluetooth Headphones  Electronics        59.99            USD   \n",
      "1   2                     Headphones  Electronics        59.99            USD   \n",
      "2   3                            TVs  Electronics        59.99            USD   \n",
      "3   4                        Laptops  Electronics        800.0            USD   \n",
      "\n",
      "  discount_percentage discount_valid_until in_stock quantity  \n",
      "0                10.0           2025-02-15     True    150.0  \n",
      "1                None                 None     True    150.0  \n",
      "2                10.0           2025-02-15     None     None  \n",
      "3                10.0           2025-02-15     None     None  \n"
     ]
    }
   ],
   "source": [
    "\n",
    "# Convert to a DataFrame for better visualization and further processing\n",
    "df = pd.DataFrame(data)\n",
    "\n",
    "# Replace NaN with None if needed\n",
    "df = df.replace({np.nan: None})\n",
    "\n",
    "# Display DataFrame\n",
    "print(df)\n",
    "\n",
    "# how to save into csv format\n",
    "df.to_csv(\"sample_data/flattened_products.csv\", index=False)"
   ]
  },
  {
   "cell_type": "markdown",
   "metadata": {},
   "source": [
    "# same logic as before in load to snoflake exerciee"
   ]
  },
  {
   "cell_type": "code",
   "execution_count": 4,
   "metadata": {},
   "outputs": [
    {
     "name": "stdout",
     "output_type": "stream",
     "text": [
      "Snowflake Warehouse: COMPUTE_WH\n",
      "Snowflake Account: tm52713.ap-south-1\n",
      "Connection successful\n"
     ]
    }
   ],
   "source": [
    "import snowflake.connector\n",
    "import os\n",
    "from dotenv import load_dotenv\n",
    "\n",
    "\n",
    "load_dotenv()\n",
    "\n",
    "# Define connection parameters correctly\n",
    "connection_param = {\n",
    "    \"user\": os.getenv(\"SNOWFLAKE_USER\"),\n",
    "    \"password\": os.getenv(\"SNOWFLAKE_PASSWORD\"),\n",
    "    \"account\": \"tm52713.ap-south-1\",\n",
    "    \"database\": os.getenv(\"SNOWFLAKE_DATABASE\"),\n",
    "    \"schema\": os.getenv(\"SNOWFLAKE_SCHEMA\"),\n",
    "    \"warehouse\": os.getenv(\"SNOWFLAKE_WAREHOUSE\")\n",
    "}\n",
    "\n",
    "# for testinbg \n",
    "print(f\"Snowflake Warehouse: {connection_param['warehouse']}\")\n",
    "print(f\"Snowflake Account: {connection_param['account']}\")\n",
    "\n",
    "session = snowflake.connector.connect(**connection_param)\n",
    "cursor = session.cursor()\n",
    "print(\"Connection successful\")\n"
   ]
  },
  {
   "cell_type": "code",
   "execution_count": 5,
   "metadata": {},
   "outputs": [
    {
     "name": "stdout",
     "output_type": "stream",
     "text": [
      "Table 'DEMO_PRODUCTS' ensured to exist.\n",
      "Data inserted successfully!\n",
      "Snowflake session closed.\n"
     ]
    }
   ],
   "source": [
    "table_name = \"DEMO_PRODUCTS\"\n",
    "\n",
    "# Create table if not exists\n",
    "create_table_query = f\"\"\"\n",
    "CREATE TABLE IF NOT EXISTS {table_name} (\n",
    "    id INT,\n",
    "    name STRING,\n",
    "    category STRING,\n",
    "    price_amount FLOAT,\n",
    "    price_currency STRING,\n",
    "    discount_percentage FLOAT,\n",
    "    discount_valid_until DATE,\n",
    "    in_stock BOOLEAN,\n",
    "    quantity INT\n",
    ");\n",
    "\"\"\"\n",
    "cursor.execute(create_table_query)\n",
    "print(f\"Table '{table_name}' ensured to exist.\")\n",
    "\n",
    "# Insert Data into Snowflake\n",
    "for _, row in df.iterrows():\n",
    "    insert_query = f\"\"\"\n",
    "    INSERT INTO {table_name} (id, name, category, price_amount, price_currency, discount_percentage, discount_valid_until, in_stock, quantity)\n",
    "    VALUES (%s, %s, %s, %s, %s, %s, %s, %s, %s);\n",
    "    \"\"\"\n",
    "    cursor.execute(insert_query, tuple(row))\n",
    "\n",
    "print(\"Data inserted successfully!\")\n",
    "\n",
    "# Commit and close connection\n",
    "session.commit()\n",
    "cursor.close()\n",
    "session.close()\n",
    "print(\"Snowflake session closed.\")"
   ]
  }
 ],
 "metadata": {
  "kernelspec": {
   "display_name": "Python 3",
   "language": "python",
   "name": "python3"
  },
  "language_info": {
   "codemirror_mode": {
    "name": "ipython",
    "version": 3
   },
   "file_extension": ".py",
   "mimetype": "text/x-python",
   "name": "python",
   "nbconvert_exporter": "python",
   "pygments_lexer": "ipython3",
   "version": "3.12.9"
  }
 },
 "nbformat": 4,
 "nbformat_minor": 2
}
