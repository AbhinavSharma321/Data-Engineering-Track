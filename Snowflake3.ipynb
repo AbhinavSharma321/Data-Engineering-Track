{
 "cells": [
  {
   "cell_type": "code",
   "execution_count": 19,
   "id": "419cf540-87f7-4467-9299-dea706331200",
   "metadata": {},
   "outputs": [],
   "source": [
    "import pandas as pd\n",
    "import json\n",
    "\n",
    "with open('demo-json.json', 'r') as file:\n",
    "    data = json.load(file)  # Load JSON file into a dictionary or list"
   ]
  },
  {
   "cell_type": "code",
   "execution_count": 5,
   "id": "79368972-4146-4f0e-b9b4-d6c3181f4280",
   "metadata": {},
   "outputs": [
    {
     "name": "stdout",
     "output_type": "stream",
     "text": [
      "Requirement already satisfied: snowflake-connector-python in c:\\users\\abc\\anaconda3\\lib\\site-packages (3.13.2)\n",
      "Requirement already satisfied: pandas in c:\\users\\abc\\anaconda3\\lib\\site-packages (2.2.3)\n",
      "Requirement already satisfied: asn1crypto<2.0.0,>0.24.0 in c:\\users\\abc\\anaconda3\\lib\\site-packages (from snowflake-connector-python) (1.5.1)\n",
      "Requirement already satisfied: cffi<2.0.0,>=1.9 in c:\\users\\abc\\anaconda3\\lib\\site-packages (from snowflake-connector-python) (1.17.1)\n",
      "Requirement already satisfied: cryptography>=3.1.0 in c:\\users\\abc\\anaconda3\\lib\\site-packages (from snowflake-connector-python) (43.0.0)\n",
      "Requirement already satisfied: pyOpenSSL<25.0.0,>=22.0.0 in c:\\users\\abc\\anaconda3\\lib\\site-packages (from snowflake-connector-python) (24.2.1)\n",
      "Requirement already satisfied: pyjwt<3.0.0 in c:\\users\\abc\\anaconda3\\lib\\site-packages (from snowflake-connector-python) (2.8.0)\n",
      "Requirement already satisfied: pytz in c:\\users\\abc\\anaconda3\\lib\\site-packages (from snowflake-connector-python) (2024.1)\n",
      "Requirement already satisfied: requests<3.0.0 in c:\\users\\abc\\anaconda3\\lib\\site-packages (from snowflake-connector-python) (2.32.3)\n",
      "Requirement already satisfied: packaging in c:\\users\\abc\\anaconda3\\lib\\site-packages (from snowflake-connector-python) (24.1)\n",
      "Requirement already satisfied: charset_normalizer<4,>=2 in c:\\users\\abc\\anaconda3\\lib\\site-packages (from snowflake-connector-python) (3.3.2)\n",
      "Requirement already satisfied: idna<4,>=2.5 in c:\\users\\abc\\anaconda3\\lib\\site-packages (from snowflake-connector-python) (3.7)\n",
      "Requirement already satisfied: certifi>=2017.4.17 in c:\\users\\abc\\anaconda3\\lib\\site-packages (from snowflake-connector-python) (2024.12.14)\n",
      "Requirement already satisfied: typing_extensions<5,>=4.3 in c:\\users\\abc\\anaconda3\\lib\\site-packages (from snowflake-connector-python) (4.11.0)\n",
      "Requirement already satisfied: filelock<4,>=3.5 in c:\\users\\abc\\anaconda3\\lib\\site-packages (from snowflake-connector-python) (3.13.1)\n",
      "Requirement already satisfied: sortedcontainers>=2.4.0 in c:\\users\\abc\\anaconda3\\lib\\site-packages (from snowflake-connector-python) (2.4.0)\n",
      "Requirement already satisfied: platformdirs<5.0.0,>=2.6.0 in c:\\users\\abc\\anaconda3\\lib\\site-packages (from snowflake-connector-python) (3.10.0)\n",
      "Requirement already satisfied: tomlkit in c:\\users\\abc\\anaconda3\\lib\\site-packages (from snowflake-connector-python) (0.11.1)\n",
      "Requirement already satisfied: numpy>=1.26.0 in c:\\users\\abc\\anaconda3\\lib\\site-packages (from pandas) (1.26.4)\n",
      "Requirement already satisfied: python-dateutil>=2.8.2 in c:\\users\\abc\\anaconda3\\lib\\site-packages (from pandas) (2.9.0.post0)\n",
      "Requirement already satisfied: tzdata>=2022.7 in c:\\users\\abc\\anaconda3\\lib\\site-packages (from pandas) (2023.3)\n",
      "Requirement already satisfied: pycparser in c:\\users\\abc\\anaconda3\\lib\\site-packages (from cffi<2.0.0,>=1.9->snowflake-connector-python) (2.21)\n",
      "Requirement already satisfied: six>=1.5 in c:\\users\\abc\\anaconda3\\lib\\site-packages (from python-dateutil>=2.8.2->pandas) (1.16.0)\n",
      "Requirement already satisfied: urllib3<3,>=1.21.1 in c:\\users\\abc\\anaconda3\\lib\\site-packages (from requests<3.0.0->snowflake-connector-python) (2.2.3)\n",
      "Note: you may need to restart the kernel to use updated packages.\n"
     ]
    }
   ],
   "source": [
    "pip install --upgrade snowflake-connector-python pandas"
   ]
  },
  {
   "cell_type": "code",
   "execution_count": 7,
   "id": "04c9ce11-ae4a-438f-bf6b-6b90b92a87ea",
   "metadata": {},
   "outputs": [
    {
     "name": "stdout",
     "output_type": "stream",
     "text": [
      "5eWxWv4EvyCkhkY\n"
     ]
    }
   ],
   "source": [
    "import snowflake.connector\n",
    "import os\n",
    "import requests\n",
    "PASSWORD = os.getenv('SNOWSQL_PWD')\n",
    "print(PASSWORD)"
   ]
  },
  {
   "cell_type": "code",
   "execution_count": 125,
   "id": "fc9e20af-725e-44be-985a-a8881a15258a",
   "metadata": {
    "scrolled": true
   },
   "outputs": [
    {
     "name": "stdout",
     "output_type": "stream",
     "text": [
      "CREATE OR REPLACE TABLE article_table_pandas_3 (product_sn STRING, name STRING, category STRING, price_amount STRING, price_currency STRING, price_discount_percentage STRING, price_discount_valid_until STRING, availability_status_in_stock STRING, availability_status_quantity STRING)\n",
      "INSERT INTO article_table_pandas_3 (product_sn, name, category, price_amount, price_currency, price_discount_percentage, price_discount_valid_until, availability_status_in_stock, availability_status_quantity) VALUES (%s, %s, %s, %s, %s, %s, %s, %s, %s)\n",
      "INSERT INTO article_table_pandas_3 (product_sn, name, category, price_amount, price_currency, price_discount_percentage, price_discount_valid_until, availability_status_in_stock, availability_status_quantity) VALUES (%s, %s, %s, %s, %s, %s, %s, %s, %s)\n",
      "INSERT INTO article_table_pandas_3 (product_sn, name, category, price_amount, price_currency, price_discount_percentage, price_discount_valid_until, availability_status_in_stock, availability_status_quantity) VALUES (%s, %s, %s, %s, %s, %s, %s, %s, %s)\n",
      "INSERT INTO article_table_pandas_3 (product_sn, name, category, price_amount, price_currency, price_discount_percentage, price_discount_valid_until, availability_status_in_stock, availability_status_quantity) VALUES (%s, %s, %s, %s, %s, %s, %s, %s, %s)\n"
     ]
    }
   ],
   "source": [
    "try:\n",
    "    ctx = snowflake.connector.connect(\n",
    "        user='ABHINAVSHARMA2002',\n",
    "        password=PASSWORD,\n",
    "        account='qraojwa-yg67137'\n",
    "    )\n",
    "    cs = ctx.cursor()\n",
    "    try:\n",
    "        cs.execute(\"CREATE WAREHOUSE IF NOT EXISTS tiny_warehouse_mg\")\n",
    "        cs.execute(\"CREATE DATABASE IF NOT EXISTS testdb_mg\")\n",
    "        cs.execute(\"USE DATABASE testdb_mg\")\n",
    "        cs.execute(\"CREATE SCHEMA IF NOT EXISTS testschema_mg\")\n",
    "        cs.execute(\"USE WAREHOUSE tiny_warehouse_mg\")\n",
    "        cs.execute(\"USE SCHEMA testschema_mg\")\n",
    "        runQueries(cs)\n",
    "    except Exception as e:\n",
    "        print(f\"Error: {e}\") \n",
    "    finally:\n",
    "        cs.close()\n",
    "        ctx.close()\n",
    "except Exception as e:\n",
    "    print(f\"Error: {e}\")"
   ]
  },
  {
   "cell_type": "code",
   "execution_count": 123,
   "id": "aa0e4621-d154-4ec0-9267-507dbc82c8ec",
   "metadata": {},
   "outputs": [],
   "source": [
    "def runQueries(cs):    \n",
    "    # Extract product list\n",
    "    products = data[\"products\"]\n",
    "    flattened_data = [flatten_json(product) for product in products]\n",
    "    \n",
    "    # Convert to Pandas DataFrame\n",
    "    df = pd.DataFrame(flattened_data)\n",
    "    # Rename specific columns\n",
    "    df = df.rename(columns={\"id\": \"product_sn\"})\n",
    "    df[\"product_sn\"] = df[\"product_sn\"].astype(str)\n",
    "    df = df.astype(str).apply(lambda col: col.map(lambda x: None if pd.isna(x) or x == \"\" or str(x).strip().lower() == \"nan\" else x))\n",
    "\n",
    "    # Generate CREATE TABLE statement dynamically\n",
    "    table_name = \"article_table_pandas_3\"\n",
    "    columns = \", \".join([f'{col} STRING' for col in df.columns])\n",
    "    create_table_sql = f'CREATE OR REPLACE TABLE {table_name} ({columns})'\n",
    "    print(create_table_sql)\n",
    "    cs.execute(create_table_sql)\n",
    "\n",
    "    # Insert data into Snowflake\n",
    "    for _, row in df.iterrows():\n",
    "        placeholders = \", \".join([\"%s\"] * len(row))\n",
    "        insert_sql = f'INSERT INTO {table_name} ({\", \".join(df.columns)}) VALUES ({placeholders})'\n",
    "        cs.execute(insert_sql, tuple(row))"
   ]
  },
  {
   "cell_type": "code",
   "execution_count": 57,
   "id": "043f4d1b-89d1-4314-a5ac-ba5730e3ca48",
   "metadata": {},
   "outputs": [],
   "source": [
    "# Flatten JSON recursively\n",
    "def flatten_json(nested_json, parent_key=\"\"):\n",
    "    items = {}\n",
    "    for k, v in nested_json.items():\n",
    "        new_key = f\"{parent_key}_{k}\" if parent_key else k\n",
    "        if isinstance(v, dict):\n",
    "            items.update(flatten_json(v, new_key))  # Recurse\n",
    "        else:\n",
    "            items[new_key] = v  # Store the value\n",
    "    return items"
   ]
  },
  {
   "cell_type": "code",
   "execution_count": 27,
   "id": "468a815f-1f9f-4236-b45a-b00cfaf51fbb",
   "metadata": {},
   "outputs": [],
   "source": [
    "def getColumnValue(columns_list,currentRow,columns_string):\n",
    "    values = [columns_string] + [currentRow[col] for col in columns_list]\n",
    "    return tuple(values)"
   ]
  }
 ],
 "metadata": {
  "kernelspec": {
   "display_name": "Python [conda env:base] *",
   "language": "python",
   "name": "conda-base-py"
  },
  "language_info": {
   "codemirror_mode": {
    "name": "ipython",
    "version": 3
   },
   "file_extension": ".py",
   "mimetype": "text/x-python",
   "name": "python",
   "nbconvert_exporter": "python",
   "pygments_lexer": "ipython3",
   "version": "3.12.7"
  }
 },
 "nbformat": 4,
 "nbformat_minor": 5
}
