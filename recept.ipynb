{
 "cells": [
  {
   "cell_type": "code",
   "execution_count": 2,
   "id": "a7d70bc7-1b41-4cef-965f-bd43b080cf36",
   "metadata": {},
   "outputs": [
    {
     "name": "stdout",
     "output_type": "stream",
     "text": [
      "Requirement already satisfied: reportlab in c:\\users\\siddh\\appdata\\local\\programs\\python\\python313\\lib\\site-packages (4.2.5)\n",
      "Requirement already satisfied: pillow>=9.0.0 in c:\\users\\siddh\\appdata\\local\\programs\\python\\python313\\lib\\site-packages (from reportlab) (11.1.0)\n",
      "Requirement already satisfied: chardet in c:\\users\\siddh\\appdata\\local\\programs\\python\\python313\\lib\\site-packages (from reportlab) (5.2.0)\n"
     ]
    },
    {
     "name": "stderr",
     "output_type": "stream",
     "text": [
      "\n",
      "[notice] A new release of pip is available: 24.3.1 -> 25.0\n",
      "[notice] To update, run: python.exe -m pip install --upgrade pip\n"
     ]
    }
   ],
   "source": [
    "!pip install reportlab"
   ]
  },
  {
   "cell_type": "code",
   "execution_count": 3,
   "id": "4b05ddee-70d4-4de5-94c1-fc06b6963e5e",
   "metadata": {},
   "outputs": [
    {
     "name": "stdout",
     "output_type": "stream",
     "text": [
      "Requirement already satisfied: reportlab in c:\\users\\siddh\\appdata\\local\\programs\\python\\python313\\lib\\site-packages (4.2.5)\n",
      "Requirement already satisfied: pillow>=9.0.0 in c:\\users\\siddh\\appdata\\local\\programs\\python\\python313\\lib\\site-packages (from reportlab) (11.1.0)\n",
      "Requirement already satisfied: chardet in c:\\users\\siddh\\appdata\\local\\programs\\python\\python313\\lib\\site-packages (from reportlab) (5.2.0)\n"
     ]
    },
    {
     "name": "stderr",
     "output_type": "stream",
     "text": [
      "\n",
      "[notice] A new release of pip is available: 24.3.1 -> 25.0\n",
      "[notice] To update, run: python.exe -m pip install --upgrade pip\n"
     ]
    }
   ],
   "source": []
  },
  {
   "cell_type": "code",
   "execution_count": 4,
   "id": "aa8ab6c6-daaa-4484-82a9-f1a5c51b6356",
   "metadata": {},
   "outputs": [
    {
     "name": "stdout",
     "output_type": "stream",
     "text": [
      "PDF Generated: receipt.pdf\n"
     ]
    }
   ],
   "source": [
    "from reportlab.platypus import SimpleDocTemplate, Table, Paragraph, TableStyle \n",
    "from reportlab.lib import colors \n",
    "from reportlab.lib.pagesizes import A4 \n",
    "from reportlab.lib.styles import getSampleStyleSheet \n",
    "\n",
    "# Data to be displayed in the table\n",
    "DATA = [ \n",
    "    [ \"Date\", \"Name\", \"Subscription\", \"Price (Rs.)\" ], \n",
    "\n",
    "    [ \"25/01/2025\", \"Sid: Session\", \"6 months\", \"9,99/-\"], \n",
    "    [ \"Sub Total\", \"\", \"\", \"20,999/-\"], \n",
    "    [ \"Discount\", \"\", \"\", \"-3,00/-\"], \n",
    "    [ \"Total\", \"\", \"\", \"17,99/-\"], \n",
    "] \n",
    "\n",
    "pdf = SimpleDocTemplate(\"receipt.pdf\", pagesize=A4)\n",
    "\n",
    "styles = getSampleStyleSheet()\n",
    "\n",
    "title_style = styles[\"Heading1\"]\n",
    "title_style.alignment = 1  # 0: left, 1: center, 2: right\n",
    "\n",
    "title = Paragraph(\"Sid\", title_style)\n",
    "\n",
    "style = TableStyle([\n",
    "    (\"BOX\", (0, 0), (-1, -1), 1, colors.black),\n",
    "    (\"GRID\", (0, 0), (4, 4), 1, colors.black),\n",
    "    (\"BACKGROUND\", (0, 0), (3, 0), colors.gray),\n",
    "    (\"TEXTCOLOR\", (0, 0), (-1, 0), colors.whitesmoke),\n",
    "    (\"ALIGN\", (0, 0), (-1, -1), \"CENTER\"),\n",
    "    (\"BACKGROUND\", (0, 1), (-1, -1), colors.beige),\n",
    "])\n",
    "\n",
    "table = Table(DATA, style=style)\n",
    "\n",
    "pdf.build([title, table])\n",
    "\n",
    "print(\"PDF Generated: receipt.pdf\")\n"
   ]
  },
  {
   "cell_type": "code",
   "execution_count": 5,
   "id": "b763b21b-1418-4c07-9c6e-ae1ab0d41c1f",
   "metadata": {},
   "outputs": [
    {
     "data": {
      "text/html": [
       "<a href='receipt.pdf' target='_blank'>receipt.pdf</a><br>"
      ],
      "text/plain": [
       "C:\\Users\\siddh\\OneDrive\\Desktop\\jupyter_projects\\receipt.pdf"
      ]
     },
     "execution_count": 5,
     "metadata": {},
     "output_type": "execute_result"
    }
   ],
   "source": [
    "from IPython.display import FileLink\n",
    "\n",
    "# Provide a link to download the PDF\n",
    "FileLink(\"receipt.pdf\")\n",
    "\n"
   ]
  },
  {
   "cell_type": "code",
   "execution_count": 6,
   "id": "aa3062c2-b876-4f2b-bf92-87fa5c65fdb1",
   "metadata": {},
   "outputs": [
    {
     "name": "stdout",
     "output_type": "stream",
     "text": [
      "PDF Generated: receipt.pdf\n"
     ]
    }
   ],
   "source": [
    "from reportlab.platypus import SimpleDocTemplate, Table, Paragraph, TableStyle \n",
    "from reportlab.lib import colors \n",
    "from reportlab.lib.pagesizes import A4 \n",
    "from reportlab.lib.styles import getSampleStyleSheet \n",
    "\n",
    "# Data to be displayed in the table\n",
    "DATA = [ \n",
    "    [ \"Date\", \"Name\", \"Subscription\", \"Price (Rs.)\" ], \n",
    "\n",
    "    [ \"25/01/2025\", \"Sid: Session\", \"6 months\", \"9,99/-\"], \n",
    "    [ \"Sub Total\", \"\", \"\", \"20,999/-\"], \n",
    "    [ \"Discount\", \"\", \"\", \"-3,00/-\"], \n",
    "    [ \"Total\", \"\", \"\", \"17,99/-\"], \n",
    "] \n",
    "\n",
    "pdf = SimpleDocTemplate(\"receipt.pdf\", pagesize=A4)\n",
    "\n",
    "styles = getSampleStyleSheet()\n",
    "\n",
    "title_style = styles[\"Heading1\"]\n",
    "title_style.alignment = 1  # 0: left, 1: center, 2: right\n",
    "\n",
    "title = Paragraph(\"Sid\", title_style)\n",
    "\n",
    "style = TableStyle([\n",
    "    (\"BOX\", (0, 0), (-1, -1), 1, colors.black),\n",
    "    (\"GRID\", (0, 0), (4, 4), 1, colors.black),\n",
    "    (\"BACKGROUND\", (0, 0), (3, 0), colors.gray),\n",
    "    (\"TEXTCOLOR\", (0, 0), (-1, 0), colors.whitesmoke),\n",
    "    (\"ALIGN\", (0, 0), (-1, -1), \"CENTER\"),\n",
    "    (\"BACKGROUND\", (0, 1), (-1, -1), colors.beige),\n",
    "])\n",
    "\n",
    "table = Table(DATA, style=style)\n",
    "\n",
    "pdf.build([title, table])\n",
    "\n",
    "print(\"PDF Generated: receipt.pdf\")\n",
    "\n"
   ]
  },
  {
   "cell_type": "code",
   "execution_count": 7,
   "id": "c2986296-8fae-49a5-8609-cf8ffe0a4430",
   "metadata": {},
   "outputs": [
    {
     "data": {
      "text/html": [
       "<a href='receipt.pdf' target='_blank'>receipt.pdf</a><br>"
      ],
      "text/plain": [
       "C:\\Users\\siddh\\OneDrive\\Desktop\\jupyter_projects\\receipt.pdf"
      ]
     },
     "execution_count": 7,
     "metadata": {},
     "output_type": "execute_result"
    }
   ],
   "source": [
    "from IPython.display import FileLink\n",
    "\n",
    "# Provide a link to download the PDF\n",
    "FileLink(\"receipt.pdf\")\n",
    "\n",
    "\n"
   ]
  },
  {
   "cell_type": "code",
   "execution_count": null,
   "id": "619d3024-3dcf-450f-9182-1f5c792111ad",
   "metadata": {},
   "outputs": [],
   "source": []
  }
 ],
 "metadata": {
  "kernelspec": {
   "display_name": "Python 3 (ipykernel)",
   "language": "python",
   "name": "python3"
  },
  "language_info": {
   "codemirror_mode": {
    "name": "ipython",
    "version": 3
   },
   "file_extension": ".py",
   "mimetype": "text/x-python",
   "name": "python",
   "nbconvert_exporter": "python",
   "pygments_lexer": "ipython3",
   "version": "3.13.1"
  }
 },
 "nbformat": 4,
 "nbformat_minor": 5
}
