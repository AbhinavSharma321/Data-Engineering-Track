{
 "cells": [
  {
   "cell_type": "code",
   "execution_count": 1,
   "id": "262dfa8a-7287-4a70-bd38-087dd1368f5b",
   "metadata": {},
   "outputs": [
    {
     "name": "stdout",
     "output_type": "stream",
     "text": [
      "Requirement already satisfied: requests in c:\\users\\abc\\anaconda3\\lib\\site-packages (2.32.3)\n",
      "Requirement already satisfied: charset-normalizer<4,>=2 in c:\\users\\abc\\anaconda3\\lib\\site-packages (from requests) (3.3.2)\n",
      "Requirement already satisfied: idna<4,>=2.5 in c:\\users\\abc\\anaconda3\\lib\\site-packages (from requests) (3.7)\n",
      "Requirement already satisfied: urllib3<3,>=1.21.1 in c:\\users\\abc\\anaconda3\\lib\\site-packages (from requests) (2.2.3)\n",
      "Requirement already satisfied: certifi>=2017.4.17 in c:\\users\\abc\\anaconda3\\lib\\site-packages (from requests) (2024.12.14)\n"
     ]
    }
   ],
   "source": [
    "!pip install requests"
   ]
  },
  {
   "cell_type": "code",
   "execution_count": 3,
   "id": "41eecee4-a64b-45af-9e45-f17c56a7ad0c",
   "metadata": {},
   "outputs": [],
   "source": [
    "import requests"
   ]
  },
  {
   "cell_type": "code",
   "execution_count": 11,
   "id": "01cae0fa-b0f9-4311-84cc-ccd43a410cd6",
   "metadata": {},
   "outputs": [],
   "source": [
    "def fetch_exchange_rate(base_currency, target_currency):\n",
    "    url = f\"https://api.frankfurter.app/latest?from={base_currency}&to={target_currency}\"\n",
    "    response = requests.get(url)\n",
    "    \n",
    "    if response.status_code == 200:\n",
    "        data = response.json()\n",
    "        return data['rates'][target_currency]\n",
    "    else:\n",
    "        print(\"Error fetching exchange rate. Please check your input and try again.\")\n",
    "        return None"
   ]
  },
  {
   "cell_type": "code",
   "execution_count": 21,
   "id": "e5ab45f7-49de-4667-9367-173140c0416b",
   "metadata": {},
   "outputs": [],
   "source": [
    "def convert_currency(amount, base_currency, target_currency):\n",
    "    exchange_rate = fetch_exchange_rate(base_currency, target_currency)\n",
    "    if exchange_rate:\n",
    "        converted_amount = amount * exchange_rate\n",
    "        print(f\"{amount} {base_currency} = {converted_amount:.2f} {target_currency}\")\n",
    "    else:\n",
    "        print(\"Conversion failed.\")"
   ]
  },
  {
   "cell_type": "code",
   "execution_count": 19,
   "id": "317a73ad-983a-4f0e-b4e2-1f586ba3ea27",
   "metadata": {},
   "outputs": [
    {
     "name": "stdout",
     "output_type": "stream",
     "text": [
      "Welcome to the Currency Converter!\n"
     ]
    },
    {
     "name": "stdin",
     "output_type": "stream",
     "text": [
      "Enter the amount to convert:  1\n",
      "Enter the base currency (e.g., USD, EUR, GBP):  USD\n",
      "Enter the target currency (e.g., USD, EUR, GBP):  INR\n"
     ]
    },
    {
     "name": "stdout",
     "output_type": "stream",
     "text": [
      "87.06\n",
      "1.0 USD = 87.06 INR\n"
     ]
    }
   ],
   "source": [
    "# Welcome message\n",
    "print(\"Welcome to the Currency Converter!\")\n",
    "\n",
    "# Get user input\n",
    "amount = float(input(\"Enter the amount to convert: \"))\n",
    "base_currency = input(\"Enter the base currency (e.g., USD, EUR, GBP): \").upper()\n",
    "target_currency = input(\"Enter the target currency (e.g., USD, EUR, GBP): \").upper()\n",
    "\n",
    "# Perform the conversion\n",
    "convert_currency(amount, base_currency, target_currency)"
   ]
  }
 ],
 "metadata": {
  "kernelspec": {
   "display_name": "Python [conda env:base] *",
   "language": "python",
   "name": "conda-base-py"
  },
  "language_info": {
   "codemirror_mode": {
    "name": "ipython",
    "version": 3
   },
   "file_extension": ".py",
   "mimetype": "text/x-python",
   "name": "python",
   "nbconvert_exporter": "python",
   "pygments_lexer": "ipython3",
   "version": "3.12.7"
  }
 },
 "nbformat": 4,
 "nbformat_minor": 5
}
